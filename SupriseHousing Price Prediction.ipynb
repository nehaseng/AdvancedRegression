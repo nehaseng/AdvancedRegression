{
 "cells": [
  {
   "cell_type": "markdown",
   "metadata": {
    "id": "LA3Yp6fNrqNx"
   },
   "source": [
    "## **Advanced Regression Assignment**"
   ]
  },
  {
   "cell_type": "markdown",
   "metadata": {
    "id": "y8n-CIFxDGXj"
   },
   "source": [
    "#### **Problem statement:**\n",
    "A US-based housing company named Surprise Housing has decided to enter the Australian market. The company uses data analytics to purchase houses at a price below their actual values and flip them on at a higher price. For the same purpose, the company has collected a data set from the sale of houses in Australia. The data is provided in the CSV file below.\n",
    "\n",
    "The company is looking at prospective properties to buy to enter the market. You are required to build a regression model using regularisation in order to predict the actual value of the prospective properties and decide whether to invest in them or not.\n",
    "\n",
    "The company wants to know:\n",
    "1. Which variables are significant in predicting the price of a house, and\n",
    "2. How well those variables describe the price of a house.\n",
    "\n",
    "\n",
    "#### **Business objective:**\n",
    "You are required to model the price of houses with the available independent variables. This model will then be used by the management to understand how exactly the prices vary with the variables. They can accordingly manipulate the strategy of the firm and concentrate on areas that will yield high returns. Further, the model will be a good way for management to understand the pricing dynamics of a new market.\n"
   ]
  },
  {
   "cell_type": "markdown",
   "metadata": {
    "id": "-AZx3JJeRYiq"
   },
   "source": [
    "### Import necessary packages"
   ]
  },
  {
   "cell_type": "code",
   "execution_count": 2,
   "metadata": {
    "executionInfo": {
     "elapsed": 410,
     "status": "ok",
     "timestamp": 1716884620469,
     "user": {
      "displayName": "Neha",
      "userId": "05120978174581133934"
     },
     "user_tz": -330
    },
    "id": "_1alSUAcDPtM"
   },
   "outputs": [],
   "source": [
    "import pandas as pd\n",
    "import numpy as np\n",
    "import matplotlib.pyplot as plt\n",
    "import seaborn as sns\n",
    "from sklearn.model_selection import train_test_split ,GridSearchCV\n",
    "from sklearn.linear_model import Ridge ,Lasso\n",
    "\n",
    "from sklearn.preprocessing import PolynomialFeatures , StandardScaler ,LabelEncoder\n",
    "from sklearn.metrics import r2_score,mean_squared_error\n",
    "\n",
    "import warnings\n",
    "warnings.filterwarnings(\"ignore\")\n"
   ]
  },
  {
   "cell_type": "markdown",
   "metadata": {
    "id": "FsWzIqxNaqcr"
   },
   "source": [
    "### Step 1 : Understanding the data\n",
    "\n",
    "- Data exploration\n",
    "- Understanding the data dictonary"
   ]
  },
  {
   "cell_type": "markdown",
   "metadata": {
    "id": "XdB_e21xQfBI"
   },
   "source": [
    "####  Data exploration"
   ]
  },
  {
   "cell_type": "code",
   "execution_count": 3,
   "metadata": {
    "colab": {
     "base_uri": "https://localhost:8080/",
     "height": 0
    },
    "executionInfo": {
     "elapsed": 494,
     "status": "ok",
     "timestamp": 1716884633121,
     "user": {
      "displayName": "Neha",
      "userId": "05120978174581133934"
     },
     "user_tz": -330
    },
    "id": "6krq3KgsDS34",
    "outputId": "dae69f20-356e-438b-9002-9d6e55e67aa5"
   },
   "outputs": [
    {
     "data": {
      "text/html": [
       "<div>\n",
       "<style scoped>\n",
       "    .dataframe tbody tr th:only-of-type {\n",
       "        vertical-align: middle;\n",
       "    }\n",
       "\n",
       "    .dataframe tbody tr th {\n",
       "        vertical-align: top;\n",
       "    }\n",
       "\n",
       "    .dataframe thead th {\n",
       "        text-align: right;\n",
       "    }\n",
       "</style>\n",
       "<table border=\"1\" class=\"dataframe\">\n",
       "  <thead>\n",
       "    <tr style=\"text-align: right;\">\n",
       "      <th></th>\n",
       "      <th>Id</th>\n",
       "      <th>MSSubClass</th>\n",
       "      <th>MSZoning</th>\n",
       "      <th>LotFrontage</th>\n",
       "      <th>LotArea</th>\n",
       "      <th>Street</th>\n",
       "      <th>Alley</th>\n",
       "      <th>LotShape</th>\n",
       "      <th>LandContour</th>\n",
       "      <th>Utilities</th>\n",
       "      <th>...</th>\n",
       "      <th>PoolArea</th>\n",
       "      <th>PoolQC</th>\n",
       "      <th>Fence</th>\n",
       "      <th>MiscFeature</th>\n",
       "      <th>MiscVal</th>\n",
       "      <th>MoSold</th>\n",
       "      <th>YrSold</th>\n",
       "      <th>SaleType</th>\n",
       "      <th>SaleCondition</th>\n",
       "      <th>SalePrice</th>\n",
       "    </tr>\n",
       "  </thead>\n",
       "  <tbody>\n",
       "    <tr>\n",
       "      <th>0</th>\n",
       "      <td>1</td>\n",
       "      <td>60</td>\n",
       "      <td>RL</td>\n",
       "      <td>65.0</td>\n",
       "      <td>8450</td>\n",
       "      <td>Pave</td>\n",
       "      <td>NaN</td>\n",
       "      <td>Reg</td>\n",
       "      <td>Lvl</td>\n",
       "      <td>AllPub</td>\n",
       "      <td>...</td>\n",
       "      <td>0</td>\n",
       "      <td>NaN</td>\n",
       "      <td>NaN</td>\n",
       "      <td>NaN</td>\n",
       "      <td>0</td>\n",
       "      <td>2</td>\n",
       "      <td>2008</td>\n",
       "      <td>WD</td>\n",
       "      <td>Normal</td>\n",
       "      <td>208500</td>\n",
       "    </tr>\n",
       "    <tr>\n",
       "      <th>1</th>\n",
       "      <td>2</td>\n",
       "      <td>20</td>\n",
       "      <td>RL</td>\n",
       "      <td>80.0</td>\n",
       "      <td>9600</td>\n",
       "      <td>Pave</td>\n",
       "      <td>NaN</td>\n",
       "      <td>Reg</td>\n",
       "      <td>Lvl</td>\n",
       "      <td>AllPub</td>\n",
       "      <td>...</td>\n",
       "      <td>0</td>\n",
       "      <td>NaN</td>\n",
       "      <td>NaN</td>\n",
       "      <td>NaN</td>\n",
       "      <td>0</td>\n",
       "      <td>5</td>\n",
       "      <td>2007</td>\n",
       "      <td>WD</td>\n",
       "      <td>Normal</td>\n",
       "      <td>181500</td>\n",
       "    </tr>\n",
       "    <tr>\n",
       "      <th>2</th>\n",
       "      <td>3</td>\n",
       "      <td>60</td>\n",
       "      <td>RL</td>\n",
       "      <td>68.0</td>\n",
       "      <td>11250</td>\n",
       "      <td>Pave</td>\n",
       "      <td>NaN</td>\n",
       "      <td>IR1</td>\n",
       "      <td>Lvl</td>\n",
       "      <td>AllPub</td>\n",
       "      <td>...</td>\n",
       "      <td>0</td>\n",
       "      <td>NaN</td>\n",
       "      <td>NaN</td>\n",
       "      <td>NaN</td>\n",
       "      <td>0</td>\n",
       "      <td>9</td>\n",
       "      <td>2008</td>\n",
       "      <td>WD</td>\n",
       "      <td>Normal</td>\n",
       "      <td>223500</td>\n",
       "    </tr>\n",
       "    <tr>\n",
       "      <th>3</th>\n",
       "      <td>4</td>\n",
       "      <td>70</td>\n",
       "      <td>RL</td>\n",
       "      <td>60.0</td>\n",
       "      <td>9550</td>\n",
       "      <td>Pave</td>\n",
       "      <td>NaN</td>\n",
       "      <td>IR1</td>\n",
       "      <td>Lvl</td>\n",
       "      <td>AllPub</td>\n",
       "      <td>...</td>\n",
       "      <td>0</td>\n",
       "      <td>NaN</td>\n",
       "      <td>NaN</td>\n",
       "      <td>NaN</td>\n",
       "      <td>0</td>\n",
       "      <td>2</td>\n",
       "      <td>2006</td>\n",
       "      <td>WD</td>\n",
       "      <td>Abnorml</td>\n",
       "      <td>140000</td>\n",
       "    </tr>\n",
       "    <tr>\n",
       "      <th>4</th>\n",
       "      <td>5</td>\n",
       "      <td>60</td>\n",
       "      <td>RL</td>\n",
       "      <td>84.0</td>\n",
       "      <td>14260</td>\n",
       "      <td>Pave</td>\n",
       "      <td>NaN</td>\n",
       "      <td>IR1</td>\n",
       "      <td>Lvl</td>\n",
       "      <td>AllPub</td>\n",
       "      <td>...</td>\n",
       "      <td>0</td>\n",
       "      <td>NaN</td>\n",
       "      <td>NaN</td>\n",
       "      <td>NaN</td>\n",
       "      <td>0</td>\n",
       "      <td>12</td>\n",
       "      <td>2008</td>\n",
       "      <td>WD</td>\n",
       "      <td>Normal</td>\n",
       "      <td>250000</td>\n",
       "    </tr>\n",
       "  </tbody>\n",
       "</table>\n",
       "<p>5 rows × 81 columns</p>\n",
       "</div>"
      ],
      "text/plain": [
       "   Id  MSSubClass MSZoning  LotFrontage  LotArea Street Alley LotShape  \\\n",
       "0   1          60       RL         65.0     8450   Pave   NaN      Reg   \n",
       "1   2          20       RL         80.0     9600   Pave   NaN      Reg   \n",
       "2   3          60       RL         68.0    11250   Pave   NaN      IR1   \n",
       "3   4          70       RL         60.0     9550   Pave   NaN      IR1   \n",
       "4   5          60       RL         84.0    14260   Pave   NaN      IR1   \n",
       "\n",
       "  LandContour Utilities  ... PoolArea PoolQC Fence MiscFeature MiscVal MoSold  \\\n",
       "0         Lvl    AllPub  ...        0    NaN   NaN         NaN       0      2   \n",
       "1         Lvl    AllPub  ...        0    NaN   NaN         NaN       0      5   \n",
       "2         Lvl    AllPub  ...        0    NaN   NaN         NaN       0      9   \n",
       "3         Lvl    AllPub  ...        0    NaN   NaN         NaN       0      2   \n",
       "4         Lvl    AllPub  ...        0    NaN   NaN         NaN       0     12   \n",
       "\n",
       "  YrSold  SaleType  SaleCondition  SalePrice  \n",
       "0   2008        WD         Normal     208500  \n",
       "1   2007        WD         Normal     181500  \n",
       "2   2008        WD         Normal     223500  \n",
       "3   2006        WD        Abnorml     140000  \n",
       "4   2008        WD         Normal     250000  \n",
       "\n",
       "[5 rows x 81 columns]"
      ]
     },
     "execution_count": 3,
     "metadata": {},
     "output_type": "execute_result"
    }
   ],
   "source": [
    "data=pd.read_csv(\"/Users/a846871yara.com/Downloads/train.csv\");\n",
    "data.head()"
   ]
  },
  {
   "cell_type": "code",
   "execution_count": 4,
   "metadata": {
    "colab": {
     "base_uri": "https://localhost:8080/"
    },
    "executionInfo": {
     "elapsed": 5,
     "status": "ok",
     "timestamp": 1716884633753,
     "user": {
      "displayName": "Neha",
      "userId": "05120978174581133934"
     },
     "user_tz": -330
    },
    "id": "tqSmnje3Jzkw",
    "outputId": "070c6810-9d21-4c51-bcc2-dec6b06b3dac"
   },
   "outputs": [
    {
     "name": "stdout",
     "output_type": "stream",
     "text": [
      "<class 'pandas.core.frame.DataFrame'>\n",
      "RangeIndex: 1460 entries, 0 to 1459\n",
      "Data columns (total 81 columns):\n",
      " #   Column         Non-Null Count  Dtype  \n",
      "---  ------         --------------  -----  \n",
      " 0   Id             1460 non-null   int64  \n",
      " 1   MSSubClass     1460 non-null   int64  \n",
      " 2   MSZoning       1460 non-null   object \n",
      " 3   LotFrontage    1201 non-null   float64\n",
      " 4   LotArea        1460 non-null   int64  \n",
      " 5   Street         1460 non-null   object \n",
      " 6   Alley          91 non-null     object \n",
      " 7   LotShape       1460 non-null   object \n",
      " 8   LandContour    1460 non-null   object \n",
      " 9   Utilities      1460 non-null   object \n",
      " 10  LotConfig      1460 non-null   object \n",
      " 11  LandSlope      1460 non-null   object \n",
      " 12  Neighborhood   1460 non-null   object \n",
      " 13  Condition1     1460 non-null   object \n",
      " 14  Condition2     1460 non-null   object \n",
      " 15  BldgType       1460 non-null   object \n",
      " 16  HouseStyle     1460 non-null   object \n",
      " 17  OverallQual    1460 non-null   int64  \n",
      " 18  OverallCond    1460 non-null   int64  \n",
      " 19  YearBuilt      1460 non-null   int64  \n",
      " 20  YearRemodAdd   1460 non-null   int64  \n",
      " 21  RoofStyle      1460 non-null   object \n",
      " 22  RoofMatl       1460 non-null   object \n",
      " 23  Exterior1st    1460 non-null   object \n",
      " 24  Exterior2nd    1460 non-null   object \n",
      " 25  MasVnrType     1452 non-null   object \n",
      " 26  MasVnrArea     1452 non-null   float64\n",
      " 27  ExterQual      1460 non-null   object \n",
      " 28  ExterCond      1460 non-null   object \n",
      " 29  Foundation     1460 non-null   object \n",
      " 30  BsmtQual       1423 non-null   object \n",
      " 31  BsmtCond       1423 non-null   object \n",
      " 32  BsmtExposure   1422 non-null   object \n",
      " 33  BsmtFinType1   1423 non-null   object \n",
      " 34  BsmtFinSF1     1460 non-null   int64  \n",
      " 35  BsmtFinType2   1422 non-null   object \n",
      " 36  BsmtFinSF2     1460 non-null   int64  \n",
      " 37  BsmtUnfSF      1460 non-null   int64  \n",
      " 38  TotalBsmtSF    1460 non-null   int64  \n",
      " 39  Heating        1460 non-null   object \n",
      " 40  HeatingQC      1460 non-null   object \n",
      " 41  CentralAir     1460 non-null   object \n",
      " 42  Electrical     1459 non-null   object \n",
      " 43  1stFlrSF       1460 non-null   int64  \n",
      " 44  2ndFlrSF       1460 non-null   int64  \n",
      " 45  LowQualFinSF   1460 non-null   int64  \n",
      " 46  GrLivArea      1460 non-null   int64  \n",
      " 47  BsmtFullBath   1460 non-null   int64  \n",
      " 48  BsmtHalfBath   1460 non-null   int64  \n",
      " 49  FullBath       1460 non-null   int64  \n",
      " 50  HalfBath       1460 non-null   int64  \n",
      " 51  BedroomAbvGr   1460 non-null   int64  \n",
      " 52  KitchenAbvGr   1460 non-null   int64  \n",
      " 53  KitchenQual    1460 non-null   object \n",
      " 54  TotRmsAbvGrd   1460 non-null   int64  \n",
      " 55  Functional     1460 non-null   object \n",
      " 56  Fireplaces     1460 non-null   int64  \n",
      " 57  FireplaceQu    770 non-null    object \n",
      " 58  GarageType     1379 non-null   object \n",
      " 59  GarageYrBlt    1379 non-null   float64\n",
      " 60  GarageFinish   1379 non-null   object \n",
      " 61  GarageCars     1460 non-null   int64  \n",
      " 62  GarageArea     1460 non-null   int64  \n",
      " 63  GarageQual     1379 non-null   object \n",
      " 64  GarageCond     1379 non-null   object \n",
      " 65  PavedDrive     1460 non-null   object \n",
      " 66  WoodDeckSF     1460 non-null   int64  \n",
      " 67  OpenPorchSF    1460 non-null   int64  \n",
      " 68  EnclosedPorch  1460 non-null   int64  \n",
      " 69  3SsnPorch      1460 non-null   int64  \n",
      " 70  ScreenPorch    1460 non-null   int64  \n",
      " 71  PoolArea       1460 non-null   int64  \n",
      " 72  PoolQC         7 non-null      object \n",
      " 73  Fence          281 non-null    object \n",
      " 74  MiscFeature    54 non-null     object \n",
      " 75  MiscVal        1460 non-null   int64  \n",
      " 76  MoSold         1460 non-null   int64  \n",
      " 77  YrSold         1460 non-null   int64  \n",
      " 78  SaleType       1460 non-null   object \n",
      " 79  SaleCondition  1460 non-null   object \n",
      " 80  SalePrice      1460 non-null   int64  \n",
      "dtypes: float64(3), int64(35), object(43)\n",
      "memory usage: 924.0+ KB\n"
     ]
    }
   ],
   "source": [
    "data.info()\n",
    "# data First impression:\n",
    "#1. 81 columns, 1460 Rows\n",
    "#2. missing data present for multiple colunms\n",
    "#3. Dataset is a combination of categorical and continous data\n",
    "#4. SalePrice is the Target variable Y"
   ]
  },
  {
   "cell_type": "markdown",
   "metadata": {
    "id": "AV_A0DaPcqTt"
   },
   "source": [
    "#### Understanding data dictionary\n"
   ]
  },
  {
   "cell_type": "code",
   "execution_count": 5,
   "metadata": {
    "colab": {
     "base_uri": "https://localhost:8080/"
    },
    "executionInfo": {
     "elapsed": 494,
     "status": "ok",
     "timestamp": 1716884640805,
     "user": {
      "displayName": "Neha",
      "userId": "05120978174581133934"
     },
     "user_tz": -330
    },
    "id": "w5UWGTQCdd6r",
    "outputId": "0a4bd944-9591-4291-be83-08ea637f7c9d"
   },
   "outputs": [
    {
     "data": {
      "text/plain": [
       "20     536\n",
       "60     299\n",
       "50     144\n",
       "120     87\n",
       "30      69\n",
       "160     63\n",
       "70      60\n",
       "80      58\n",
       "90      52\n",
       "190     30\n",
       "85      20\n",
       "75      16\n",
       "45      12\n",
       "180     10\n",
       "40       4\n",
       "Name: MSSubClass, dtype: int64"
      ]
     },
     "execution_count": 5,
     "metadata": {},
     "output_type": "execute_result"
    }
   ],
   "source": [
    "data.MSSubClass.value_counts()\n",
    "# these are the categorical values that indentify the type of dwelling\n",
    "#85 =SPLIT FOYER\n",
    "#60 =\t2-STORY 1946 & NEWER"
   ]
  },
  {
   "cell_type": "code",
   "execution_count": 6,
   "metadata": {
    "colab": {
     "base_uri": "https://localhost:8080/"
    },
    "executionInfo": {
     "elapsed": 11,
     "status": "ok",
     "timestamp": 1716884641412,
     "user": {
      "displayName": "Neha",
      "userId": "05120978174581133934"
     },
     "user_tz": -330
    },
    "id": "QiMa4O7gd8ei",
    "outputId": "dbc97916-ebea-45f5-cfac-93ef75edce29"
   },
   "outputs": [
    {
     "data": {
      "text/plain": [
       "5    821\n",
       "6    252\n",
       "7    205\n",
       "8     72\n",
       "4     57\n",
       "3     25\n",
       "9     22\n",
       "2      5\n",
       "1      1\n",
       "Name: OverallCond, dtype: int64"
      ]
     },
     "execution_count": 6,
     "metadata": {},
     "output_type": "execute_result"
    }
   ],
   "source": [
    "#OverallQual & OverallCond are categorical -ordinal values that determine the overall quality of the property\n",
    "data.OverallCond.value_counts()"
   ]
  },
  {
   "cell_type": "code",
   "execution_count": 7,
   "metadata": {
    "colab": {
     "base_uri": "https://localhost:8080/"
    },
    "executionInfo": {
     "elapsed": 9,
     "status": "ok",
     "timestamp": 1716884641412,
     "user": {
      "displayName": "Neha",
      "userId": "05120978174581133934"
     },
     "user_tz": -330
    },
    "id": "9lMIhPnTe-Ma",
    "outputId": "a0333563-7c5a-4d7d-b40f-744c981d7518"
   },
   "outputs": [
    {
     "data": {
      "text/plain": [
       "0      1434\n",
       "80        3\n",
       "360       2\n",
       "205       1\n",
       "479       1\n",
       "Name: LowQualFinSF, dtype: int64"
      ]
     },
     "execution_count": 7,
     "metadata": {},
     "output_type": "execute_result"
    }
   ],
   "source": [
    "#Provides data about how much of the area is of Low quality finish in square feet\n",
    "data.LowQualFinSF.value_counts().head()"
   ]
  },
  {
   "cell_type": "code",
   "execution_count": 8,
   "metadata": {
    "colab": {
     "base_uri": "https://localhost:8080/"
    },
    "executionInfo": {
     "elapsed": 8,
     "status": "ok",
     "timestamp": 1716884641412,
     "user": {
      "displayName": "Neha",
      "userId": "05120978174581133934"
     },
     "user_tz": -330
    },
    "id": "YmLkgnkQe-HW",
    "outputId": "e3a7aa0b-a2b0-4e79-86ed-33824f38bcd9"
   },
   "outputs": [
    {
     "data": {
      "text/plain": [
       "0    3\n",
       "1    3\n",
       "2    3\n",
       "3    3\n",
       "4    4\n",
       "Name: BedroomAbvGr, dtype: int64"
      ]
     },
     "execution_count": 8,
     "metadata": {},
     "output_type": "execute_result"
    }
   ],
   "source": [
    "#number of bedrooms\n",
    "data.BedroomAbvGr.head()"
   ]
  },
  {
   "cell_type": "code",
   "execution_count": 9,
   "metadata": {
    "colab": {
     "base_uri": "https://localhost:8080/"
    },
    "executionInfo": {
     "elapsed": 8,
     "status": "ok",
     "timestamp": 1716884641413,
     "user": {
      "displayName": "Neha",
      "userId": "05120978174581133934"
     },
     "user_tz": -330
    },
    "id": "SMJCDC-Amkou",
    "outputId": "ff4d7da3-11a9-4962-955c-b37e95872a3e"
   },
   "outputs": [
    {
     "data": {
      "text/plain": [
       "6     253\n",
       "7     234\n",
       "5     204\n",
       "4     141\n",
       "8     122\n",
       "3     106\n",
       "10     89\n",
       "11     79\n",
       "9      63\n",
       "12     59\n",
       "1      58\n",
       "2      52\n",
       "Name: MoSold, dtype: int64"
      ]
     },
     "execution_count": 9,
     "metadata": {},
     "output_type": "execute_result"
    }
   ],
   "source": [
    "data.MoSold.value_counts()"
   ]
  },
  {
   "cell_type": "markdown",
   "metadata": {
    "id": "n0qYiM4yPY8_"
   },
   "source": [
    "### Step 2:  Data cleaning , manipulation & visualization\n",
    "\n",
    "1. Cleaning  \n",
    "- Handling Missing values\n",
    "- duplicate rows\n",
    "- columns with unique data etc\n",
    "\n",
    "2. Data Manipulation\n",
    "\n",
    "3. Visualizing Trends in data"
   ]
  },
  {
   "cell_type": "markdown",
   "metadata": {
    "id": "5B4_dgW2aBIE"
   },
   "source": [
    "#### Data cleaning"
   ]
  },
  {
   "cell_type": "code",
   "execution_count": 10,
   "metadata": {
    "colab": {
     "base_uri": "https://localhost:8080/"
    },
    "executionInfo": {
     "elapsed": 629,
     "status": "ok",
     "timestamp": 1716884645372,
     "user": {
      "displayName": "Neha",
      "userId": "05120978174581133934"
     },
     "user_tz": -330
    },
    "id": "4scfIl_UDaaT",
    "outputId": "c2e9e825-c791-432c-a73d-4dce7f026699"
   },
   "outputs": [
    {
     "data": {
      "text/plain": [
       "PoolQC         99.52\n",
       "MiscFeature    96.30\n",
       "Alley          93.77\n",
       "Fence          80.75\n",
       "FireplaceQu    47.26\n",
       "               ...  \n",
       "ExterQual       0.00\n",
       "Exterior2nd     0.00\n",
       "Exterior1st     0.00\n",
       "RoofMatl        0.00\n",
       "SalePrice       0.00\n",
       "Length: 81, dtype: float64"
      ]
     },
     "execution_count": 10,
     "metadata": {},
     "output_type": "execute_result"
    }
   ],
   "source": [
    "#checking for columns with high % of nulls\n",
    "round(100*data.isna().mean(),2).sort_values(ascending=False)"
   ]
  },
  {
   "cell_type": "code",
   "execution_count": 11,
   "metadata": {
    "executionInfo": {
     "elapsed": 8,
     "status": "ok",
     "timestamp": 1716884645372,
     "user": {
      "displayName": "Neha",
      "userId": "05120978174581133934"
     },
     "user_tz": -330
    },
    "id": "NNUepFXsDcZf"
   },
   "outputs": [],
   "source": [
    "#dropping columns with very high percentage of null data (above 80% null values)\n",
    "data =data.drop([\"PoolQC\",\"MiscFeature\",\"Alley\",\"Fence\"],axis=1 )"
   ]
  },
  {
   "cell_type": "code",
   "execution_count": 12,
   "metadata": {
    "colab": {
     "base_uri": "https://localhost:8080/"
    },
    "executionInfo": {
     "elapsed": 8,
     "status": "ok",
     "timestamp": 1716884645372,
     "user": {
      "displayName": "Neha",
      "userId": "05120978174581133934"
     },
     "user_tz": -330
    },
    "id": "SSBdc_KCKJul",
    "outputId": "53617d76-3763-4b6b-eef7-7c01a3695b8d"
   },
   "outputs": [
    {
     "data": {
      "text/plain": [
       "FireplaceQu     47.26\n",
       "LotFrontage     17.74\n",
       "GarageType       5.55\n",
       "GarageYrBlt      5.55\n",
       "GarageFinish     5.55\n",
       "GarageQual       5.55\n",
       "GarageCond       5.55\n",
       "BsmtExposure     2.60\n",
       "BsmtFinType2     2.60\n",
       "BsmtQual         2.53\n",
       "BsmtCond         2.53\n",
       "BsmtFinType1     2.53\n",
       "MasVnrArea       0.55\n",
       "MasVnrType       0.55\n",
       "Electrical       0.07\n",
       "KitchenAbvGr     0.00\n",
       "BedroomAbvGr     0.00\n",
       "HalfBath         0.00\n",
       "FullBath         0.00\n",
       "BsmtHalfBath     0.00\n",
       "dtype: float64"
      ]
     },
     "execution_count": 12,
     "metadata": {},
     "output_type": "execute_result"
    }
   ],
   "source": [
    "#recheck missing value\n",
    "round(100*data.isna().mean(),2).sort_values(ascending=False).head(20)"
   ]
  },
  {
   "cell_type": "code",
   "execution_count": 13,
   "metadata": {
    "executionInfo": {
     "elapsed": 7,
     "status": "ok",
     "timestamp": 1716884645372,
     "user": {
      "displayName": "Neha",
      "userId": "05120978174581133934"
     },
     "user_tz": -330
    },
    "id": "f_p8EOEWTMEp"
   },
   "outputs": [],
   "source": [
    "#dropping the null values from the column where nulls are lesser than 2%\n",
    "#Electrical\n",
    "data=data[data.Electrical.notna()]"
   ]
  },
  {
   "cell_type": "code",
   "execution_count": 14,
   "metadata": {
    "executionInfo": {
     "elapsed": 7,
     "status": "ok",
     "timestamp": 1716884645373,
     "user": {
      "displayName": "Neha",
      "userId": "05120978174581133934"
     },
     "user_tz": -330
    },
    "id": "a3ubxanwTM9g"
   },
   "outputs": [],
   "source": [
    "#MasVnrArea\n",
    "data = data[data.MasVnrArea.notna()]"
   ]
  },
  {
   "cell_type": "code",
   "execution_count": 190,
   "metadata": {
    "executionInfo": {
     "elapsed": 830,
     "status": "ok",
     "timestamp": 1716884646196,
     "user": {
      "displayName": "Neha",
      "userId": "05120978174581133934"
     },
     "user_tz": -330
    },
    "id": "isuGLFqJKuHB"
   },
   "outputs": [],
   "source": [
    "#Imputing missing values for columns where null % is greater than 2%\n",
    "# MasVnrType\n",
    "# FireplaceQu\n",
    "# LotFrontage\n",
    "# GarageCond\n",
    "# GarageYrBlt\n",
    "# GarageFinish\n",
    "# GarageQual\n",
    "# GarageType\n",
    "# BsmtFinType2     2.60\n",
    "# BsmtExposure     2.60\n",
    "# BsmtFinType1     2.53\n",
    "# BsmtCond         2.53\n",
    "# BsmtQual         2.53"
   ]
  },
  {
   "cell_type": "code",
   "execution_count": 15,
   "metadata": {
    "colab": {
     "base_uri": "https://localhost:8080/"
    },
    "executionInfo": {
     "elapsed": 16,
     "status": "ok",
     "timestamp": 1716884646196,
     "user": {
      "displayName": "Neha",
      "userId": "05120978174581133934"
     },
     "user_tz": -330
    },
    "id": "vqHNKp2aKLex",
    "outputId": "3cdc3689-0cb8-4834-e17b-781371089ab7"
   },
   "outputs": [
    {
     "data": {
      "text/plain": [
       "TA    648\n",
       "Gd    611\n",
       "Ex    120\n",
       "Fa     35\n",
       "Name: BsmtQual, dtype: int64"
      ]
     },
     "execution_count": 15,
     "metadata": {},
     "output_type": "execute_result"
    }
   ],
   "source": [
    "#checking the data spread for each of the columns\n",
    "data.BsmtQual.value_counts()"
   ]
  },
  {
   "cell_type": "code",
   "execution_count": 16,
   "metadata": {
    "executionInfo": {
     "elapsed": 16,
     "status": "ok",
     "timestamp": 1716884646196,
     "user": {
      "displayName": "Neha",
      "userId": "05120978174581133934"
     },
     "user_tz": -330
    },
    "id": "Rjfd_ez8LrFI"
   },
   "outputs": [],
   "source": [
    "#imputing with mode\n",
    "#MasVnrType\n",
    "data.MasVnrType.fillna(\"BrkFace\",inplace=True)"
   ]
  },
  {
   "cell_type": "code",
   "execution_count": 17,
   "metadata": {
    "executionInfo": {
     "elapsed": 15,
     "status": "ok",
     "timestamp": 1716884646196,
     "user": {
      "displayName": "Neha",
      "userId": "05120978174581133934"
     },
     "user_tz": -330
    },
    "id": "8YvUXCMEh2Qe"
   },
   "outputs": [],
   "source": [
    "#FireplaceQu\n",
    "data.FireplaceQu.fillna(\"Gd\",inplace=True)\n"
   ]
  },
  {
   "cell_type": "code",
   "execution_count": 18,
   "metadata": {
    "executionInfo": {
     "elapsed": 16,
     "status": "ok",
     "timestamp": 1716884646197,
     "user": {
      "displayName": "Neha",
      "userId": "05120978174581133934"
     },
     "user_tz": -330
    },
    "id": "hatvaWyig4ts"
   },
   "outputs": [],
   "source": [
    "#GarageCond,GarageQual,BsmtCond,BsmtQual\n",
    "data.GarageCond.fillna(\"TA\",inplace=True)\n",
    "data.GarageQual.fillna(\"TA\",inplace=True)\n",
    "data.BsmtCond.fillna(\"TA\",inplace=True)\n",
    "data.BsmtQual.fillna(\"TA\",inplace=True)"
   ]
  },
  {
   "cell_type": "code",
   "execution_count": 19,
   "metadata": {
    "executionInfo": {
     "elapsed": 16,
     "status": "ok",
     "timestamp": 1716884646197,
     "user": {
      "displayName": "Neha",
      "userId": "05120978174581133934"
     },
     "user_tz": -330
    },
    "id": "s2Gh271XgpfN"
   },
   "outputs": [],
   "source": [
    "#GarageFinish ,BsmtFinType2,BsmtFinType1\n",
    "data.GarageFinish.fillna(\"Unf\",inplace=True)\n",
    "data.BsmtFinType2.fillna(\"Unf\",inplace=True)\n",
    "data.BsmtFinType1.fillna(\"Unf\",inplace=True)"
   ]
  },
  {
   "cell_type": "code",
   "execution_count": 20,
   "metadata": {
    "executionInfo": {
     "elapsed": 15,
     "status": "ok",
     "timestamp": 1716884646197,
     "user": {
      "displayName": "Neha",
      "userId": "05120978174581133934"
     },
     "user_tz": -330
    },
    "id": "tSIpUeHbgZJ2"
   },
   "outputs": [],
   "source": [
    "#GarageType\n",
    "data.GarageType.fillna(\"Attchd\",inplace=True)"
   ]
  },
  {
   "cell_type": "code",
   "execution_count": 21,
   "metadata": {
    "executionInfo": {
     "elapsed": 15,
     "status": "ok",
     "timestamp": 1716884646197,
     "user": {
      "displayName": "Neha",
      "userId": "05120978174581133934"
     },
     "user_tz": -330
    },
    "id": "20B41XuaWFVS"
   },
   "outputs": [],
   "source": [
    "#BsmtExposure\n",
    "data.BsmtExposure.fillna(\"No\",inplace=True)"
   ]
  },
  {
   "cell_type": "code",
   "execution_count": 22,
   "metadata": {
    "executionInfo": {
     "elapsed": 15,
     "status": "ok",
     "timestamp": 1716884646197,
     "user": {
      "displayName": "Neha",
      "userId": "05120978174581133934"
     },
     "user_tz": -330
    },
    "id": "HBfvbjZUgLPx"
   },
   "outputs": [],
   "source": [
    "#GarageYrBlt\n",
    "data.GarageYrBlt.fillna(\"2005.0\",inplace=True)"
   ]
  },
  {
   "cell_type": "code",
   "execution_count": 23,
   "metadata": {
    "colab": {
     "base_uri": "https://localhost:8080/"
    },
    "executionInfo": {
     "elapsed": 14,
     "status": "ok",
     "timestamp": 1716884646197,
     "user": {
      "displayName": "Neha",
      "userId": "05120978174581133934"
     },
     "user_tz": -330
    },
    "id": "BPhR9sYtKkCU",
    "outputId": "0b524a78-53cb-4477-8a1c-5745dfaeff01"
   },
   "outputs": [
    {
     "name": "stdout",
     "output_type": "stream",
     "text": [
      "69.0\n"
     ]
    }
   ],
   "source": [
    "#imputing with median\n",
    "print(data.LotFrontage.median())\n",
    "data.LotFrontage.fillna(data.LotFrontage.median(),inplace=True)"
   ]
  },
  {
   "cell_type": "code",
   "execution_count": 24,
   "metadata": {
    "colab": {
     "base_uri": "https://localhost:8080/"
    },
    "executionInfo": {
     "elapsed": 14,
     "status": "ok",
     "timestamp": 1716884646197,
     "user": {
      "displayName": "Neha",
      "userId": "05120978174581133934"
     },
     "user_tz": -330
    },
    "id": "jMBAMhobWuGi",
    "outputId": "9d1b5623-8fe0-4aac-c130-800e6b422a39"
   },
   "outputs": [
    {
     "data": {
      "text/plain": [
       "Id              0.0\n",
       "HalfBath        0.0\n",
       "FireplaceQu     0.0\n",
       "Fireplaces      0.0\n",
       "Functional      0.0\n",
       "TotRmsAbvGrd    0.0\n",
       "KitchenQual     0.0\n",
       "KitchenAbvGr    0.0\n",
       "BedroomAbvGr    0.0\n",
       "FullBath        0.0\n",
       "HeatingQC       0.0\n",
       "BsmtHalfBath    0.0\n",
       "BsmtFullBath    0.0\n",
       "GrLivArea       0.0\n",
       "LowQualFinSF    0.0\n",
       "2ndFlrSF        0.0\n",
       "1stFlrSF        0.0\n",
       "Electrical      0.0\n",
       "GarageType      0.0\n",
       "GarageYrBlt     0.0\n",
       "dtype: float64"
      ]
     },
     "execution_count": 24,
     "metadata": {},
     "output_type": "execute_result"
    }
   ],
   "source": [
    "#recheck missing value\n",
    "round(100*data.isna().mean(),2).sort_values(ascending=False).head(20)"
   ]
  },
  {
   "cell_type": "code",
   "execution_count": 25,
   "metadata": {
    "colab": {
     "base_uri": "https://localhost:8080/"
    },
    "executionInfo": {
     "elapsed": 13,
     "status": "ok",
     "timestamp": 1716884646197,
     "user": {
      "displayName": "Neha",
      "userId": "05120978174581133934"
     },
     "user_tz": -330
    },
    "id": "sRlvd4iuKqWQ",
    "outputId": "eff110b0-f5c2-450e-adec-c69db529acda"
   },
   "outputs": [
    {
     "data": {
      "text/plain": [
       "(1451, 77)"
      ]
     },
     "execution_count": 25,
     "metadata": {},
     "output_type": "execute_result"
    }
   ],
   "source": [
    "#Removing duplicate rows in the dataframe if any\n",
    "data = data.drop_duplicates()\n",
    "data.shape"
   ]
  },
  {
   "cell_type": "code",
   "execution_count": 26,
   "metadata": {
    "colab": {
     "base_uri": "https://localhost:8080/"
    },
    "executionInfo": {
     "elapsed": 12,
     "status": "ok",
     "timestamp": 1716884646197,
     "user": {
      "displayName": "Neha",
      "userId": "05120978174581133934"
     },
     "user_tz": -330
    },
    "id": "31jLVbI8jOnB",
    "outputId": "e15ba455-5425-4f03-c9b1-2327354a01e7"
   },
   "outputs": [
    {
     "name": "stdout",
     "output_type": "stream",
     "text": [
      "Street           2\n",
      "Utilities        2\n",
      "CentralAir       2\n",
      "PavedDrive       3\n",
      "HalfBath         3\n",
      "              ... \n",
      "1stFlrSF       748\n",
      "BsmtUnfSF      777\n",
      "GrLivArea      858\n",
      "LotArea       1066\n",
      "Id            1451\n",
      "Length: 77, dtype: int64\n"
     ]
    }
   ],
   "source": [
    "#Remove any columns with all unique values or 1 single vlaue -> no such data found except ID\n",
    "print(data.nunique().sort_values(ascending=True))"
   ]
  },
  {
   "cell_type": "code",
   "execution_count": 27,
   "metadata": {
    "executionInfo": {
     "elapsed": 13,
     "status": "ok",
     "timestamp": 1716884646198,
     "user": {
      "displayName": "Neha",
      "userId": "05120978174581133934"
     },
     "user_tz": -330
    },
    "id": "xfyuczSdW7qo"
   },
   "outputs": [],
   "source": [
    "#Id column has all unique values so we can remove it\n",
    "data =data.drop([\"Id\"],axis=True)"
   ]
  },
  {
   "cell_type": "code",
   "execution_count": 28,
   "metadata": {
    "executionInfo": {
     "elapsed": 12,
     "status": "ok",
     "timestamp": 1716884646198,
     "user": {
      "displayName": "Neha",
      "userId": "05120978174581133934"
     },
     "user_tz": -330
    },
    "id": "TZd7sZ8IXwLI"
   },
   "outputs": [],
   "source": [
    "#resetting index because we have dropped multiple rows/columns\n",
    "data.reset_index(inplace=True,drop=True)"
   ]
  },
  {
   "cell_type": "code",
   "execution_count": 29,
   "metadata": {
    "colab": {
     "base_uri": "https://localhost:8080/"
    },
    "executionInfo": {
     "elapsed": 12,
     "status": "ok",
     "timestamp": 1716884646198,
     "user": {
      "displayName": "Neha",
      "userId": "05120978174581133934"
     },
     "user_tz": -330
    },
    "id": "55fFs1WfXycj",
    "outputId": "e7cd1194-d481-468b-eb8f-c685af93ff7d"
   },
   "outputs": [
    {
     "name": "stdout",
     "output_type": "stream",
     "text": [
      "<class 'pandas.core.frame.DataFrame'>\n",
      "RangeIndex: 1451 entries, 0 to 1450\n",
      "Data columns (total 76 columns):\n",
      " #   Column         Non-Null Count  Dtype  \n",
      "---  ------         --------------  -----  \n",
      " 0   MSSubClass     1451 non-null   int64  \n",
      " 1   MSZoning       1451 non-null   object \n",
      " 2   LotFrontage    1451 non-null   float64\n",
      " 3   LotArea        1451 non-null   int64  \n",
      " 4   Street         1451 non-null   object \n",
      " 5   LotShape       1451 non-null   object \n",
      " 6   LandContour    1451 non-null   object \n",
      " 7   Utilities      1451 non-null   object \n",
      " 8   LotConfig      1451 non-null   object \n",
      " 9   LandSlope      1451 non-null   object \n",
      " 10  Neighborhood   1451 non-null   object \n",
      " 11  Condition1     1451 non-null   object \n",
      " 12  Condition2     1451 non-null   object \n",
      " 13  BldgType       1451 non-null   object \n",
      " 14  HouseStyle     1451 non-null   object \n",
      " 15  OverallQual    1451 non-null   int64  \n",
      " 16  OverallCond    1451 non-null   int64  \n",
      " 17  YearBuilt      1451 non-null   int64  \n",
      " 18  YearRemodAdd   1451 non-null   int64  \n",
      " 19  RoofStyle      1451 non-null   object \n",
      " 20  RoofMatl       1451 non-null   object \n",
      " 21  Exterior1st    1451 non-null   object \n",
      " 22  Exterior2nd    1451 non-null   object \n",
      " 23  MasVnrType     1451 non-null   object \n",
      " 24  MasVnrArea     1451 non-null   float64\n",
      " 25  ExterQual      1451 non-null   object \n",
      " 26  ExterCond      1451 non-null   object \n",
      " 27  Foundation     1451 non-null   object \n",
      " 28  BsmtQual       1451 non-null   object \n",
      " 29  BsmtCond       1451 non-null   object \n",
      " 30  BsmtExposure   1451 non-null   object \n",
      " 31  BsmtFinType1   1451 non-null   object \n",
      " 32  BsmtFinSF1     1451 non-null   int64  \n",
      " 33  BsmtFinType2   1451 non-null   object \n",
      " 34  BsmtFinSF2     1451 non-null   int64  \n",
      " 35  BsmtUnfSF      1451 non-null   int64  \n",
      " 36  TotalBsmtSF    1451 non-null   int64  \n",
      " 37  Heating        1451 non-null   object \n",
      " 38  HeatingQC      1451 non-null   object \n",
      " 39  CentralAir     1451 non-null   object \n",
      " 40  Electrical     1451 non-null   object \n",
      " 41  1stFlrSF       1451 non-null   int64  \n",
      " 42  2ndFlrSF       1451 non-null   int64  \n",
      " 43  LowQualFinSF   1451 non-null   int64  \n",
      " 44  GrLivArea      1451 non-null   int64  \n",
      " 45  BsmtFullBath   1451 non-null   int64  \n",
      " 46  BsmtHalfBath   1451 non-null   int64  \n",
      " 47  FullBath       1451 non-null   int64  \n",
      " 48  HalfBath       1451 non-null   int64  \n",
      " 49  BedroomAbvGr   1451 non-null   int64  \n",
      " 50  KitchenAbvGr   1451 non-null   int64  \n",
      " 51  KitchenQual    1451 non-null   object \n",
      " 52  TotRmsAbvGrd   1451 non-null   int64  \n",
      " 53  Functional     1451 non-null   object \n",
      " 54  Fireplaces     1451 non-null   int64  \n",
      " 55  FireplaceQu    1451 non-null   object \n",
      " 56  GarageType     1451 non-null   object \n",
      " 57  GarageYrBlt    1451 non-null   object \n",
      " 58  GarageFinish   1451 non-null   object \n",
      " 59  GarageCars     1451 non-null   int64  \n",
      " 60  GarageArea     1451 non-null   int64  \n",
      " 61  GarageQual     1451 non-null   object \n",
      " 62  GarageCond     1451 non-null   object \n",
      " 63  PavedDrive     1451 non-null   object \n",
      " 64  WoodDeckSF     1451 non-null   int64  \n",
      " 65  OpenPorchSF    1451 non-null   int64  \n",
      " 66  EnclosedPorch  1451 non-null   int64  \n",
      " 67  3SsnPorch      1451 non-null   int64  \n",
      " 68  ScreenPorch    1451 non-null   int64  \n",
      " 69  PoolArea       1451 non-null   int64  \n",
      " 70  MiscVal        1451 non-null   int64  \n",
      " 71  MoSold         1451 non-null   int64  \n",
      " 72  YrSold         1451 non-null   int64  \n",
      " 73  SaleType       1451 non-null   object \n",
      " 74  SaleCondition  1451 non-null   object \n",
      " 75  SalePrice      1451 non-null   int64  \n",
      "dtypes: float64(2), int64(34), object(40)\n",
      "memory usage: 861.7+ KB\n"
     ]
    }
   ],
   "source": [
    "data.info()\n",
    "#all null values handled"
   ]
  },
  {
   "cell_type": "markdown",
   "metadata": {
    "id": "IRydkuZ6Yl52"
   },
   "source": [
    "#### Data Manipulation"
   ]
  },
  {
   "cell_type": "code",
   "execution_count": 30,
   "metadata": {
    "colab": {
     "base_uri": "https://localhost:8080/",
     "height": 256
    },
    "executionInfo": {
     "elapsed": 652,
     "status": "ok",
     "timestamp": 1716884696005,
     "user": {
      "displayName": "Neha",
      "userId": "05120978174581133934"
     },
     "user_tz": -330
    },
    "id": "WCm_0OhonL-b",
    "outputId": "638fadcb-9802-4536-9523-cec3b9a12c19"
   },
   "outputs": [
    {
     "data": {
      "text/html": [
       "<div>\n",
       "<style scoped>\n",
       "    .dataframe tbody tr th:only-of-type {\n",
       "        vertical-align: middle;\n",
       "    }\n",
       "\n",
       "    .dataframe tbody tr th {\n",
       "        vertical-align: top;\n",
       "    }\n",
       "\n",
       "    .dataframe thead th {\n",
       "        text-align: right;\n",
       "    }\n",
       "</style>\n",
       "<table border=\"1\" class=\"dataframe\">\n",
       "  <thead>\n",
       "    <tr style=\"text-align: right;\">\n",
       "      <th></th>\n",
       "      <th>MSSubClass</th>\n",
       "      <th>LotFrontage</th>\n",
       "      <th>LotArea</th>\n",
       "      <th>OverallQual</th>\n",
       "      <th>OverallCond</th>\n",
       "      <th>YearBuilt</th>\n",
       "      <th>YearRemodAdd</th>\n",
       "      <th>MasVnrArea</th>\n",
       "      <th>BsmtFinSF1</th>\n",
       "      <th>BsmtFinSF2</th>\n",
       "      <th>...</th>\n",
       "      <th>WoodDeckSF</th>\n",
       "      <th>OpenPorchSF</th>\n",
       "      <th>EnclosedPorch</th>\n",
       "      <th>3SsnPorch</th>\n",
       "      <th>ScreenPorch</th>\n",
       "      <th>PoolArea</th>\n",
       "      <th>MiscVal</th>\n",
       "      <th>MoSold</th>\n",
       "      <th>YrSold</th>\n",
       "      <th>SalePrice</th>\n",
       "    </tr>\n",
       "  </thead>\n",
       "  <tbody>\n",
       "    <tr>\n",
       "      <th>0</th>\n",
       "      <td>60</td>\n",
       "      <td>65.0</td>\n",
       "      <td>8450</td>\n",
       "      <td>7</td>\n",
       "      <td>5</td>\n",
       "      <td>2003</td>\n",
       "      <td>2003</td>\n",
       "      <td>196.0</td>\n",
       "      <td>706</td>\n",
       "      <td>0</td>\n",
       "      <td>...</td>\n",
       "      <td>0</td>\n",
       "      <td>61</td>\n",
       "      <td>0</td>\n",
       "      <td>0</td>\n",
       "      <td>0</td>\n",
       "      <td>0</td>\n",
       "      <td>0</td>\n",
       "      <td>2</td>\n",
       "      <td>2008</td>\n",
       "      <td>208500</td>\n",
       "    </tr>\n",
       "    <tr>\n",
       "      <th>1</th>\n",
       "      <td>20</td>\n",
       "      <td>80.0</td>\n",
       "      <td>9600</td>\n",
       "      <td>6</td>\n",
       "      <td>8</td>\n",
       "      <td>1976</td>\n",
       "      <td>1976</td>\n",
       "      <td>0.0</td>\n",
       "      <td>978</td>\n",
       "      <td>0</td>\n",
       "      <td>...</td>\n",
       "      <td>298</td>\n",
       "      <td>0</td>\n",
       "      <td>0</td>\n",
       "      <td>0</td>\n",
       "      <td>0</td>\n",
       "      <td>0</td>\n",
       "      <td>0</td>\n",
       "      <td>5</td>\n",
       "      <td>2007</td>\n",
       "      <td>181500</td>\n",
       "    </tr>\n",
       "    <tr>\n",
       "      <th>2</th>\n",
       "      <td>60</td>\n",
       "      <td>68.0</td>\n",
       "      <td>11250</td>\n",
       "      <td>7</td>\n",
       "      <td>5</td>\n",
       "      <td>2001</td>\n",
       "      <td>2002</td>\n",
       "      <td>162.0</td>\n",
       "      <td>486</td>\n",
       "      <td>0</td>\n",
       "      <td>...</td>\n",
       "      <td>0</td>\n",
       "      <td>42</td>\n",
       "      <td>0</td>\n",
       "      <td>0</td>\n",
       "      <td>0</td>\n",
       "      <td>0</td>\n",
       "      <td>0</td>\n",
       "      <td>9</td>\n",
       "      <td>2008</td>\n",
       "      <td>223500</td>\n",
       "    </tr>\n",
       "    <tr>\n",
       "      <th>3</th>\n",
       "      <td>70</td>\n",
       "      <td>60.0</td>\n",
       "      <td>9550</td>\n",
       "      <td>7</td>\n",
       "      <td>5</td>\n",
       "      <td>1915</td>\n",
       "      <td>1970</td>\n",
       "      <td>0.0</td>\n",
       "      <td>216</td>\n",
       "      <td>0</td>\n",
       "      <td>...</td>\n",
       "      <td>0</td>\n",
       "      <td>35</td>\n",
       "      <td>272</td>\n",
       "      <td>0</td>\n",
       "      <td>0</td>\n",
       "      <td>0</td>\n",
       "      <td>0</td>\n",
       "      <td>2</td>\n",
       "      <td>2006</td>\n",
       "      <td>140000</td>\n",
       "    </tr>\n",
       "    <tr>\n",
       "      <th>4</th>\n",
       "      <td>60</td>\n",
       "      <td>84.0</td>\n",
       "      <td>14260</td>\n",
       "      <td>8</td>\n",
       "      <td>5</td>\n",
       "      <td>2000</td>\n",
       "      <td>2000</td>\n",
       "      <td>350.0</td>\n",
       "      <td>655</td>\n",
       "      <td>0</td>\n",
       "      <td>...</td>\n",
       "      <td>192</td>\n",
       "      <td>84</td>\n",
       "      <td>0</td>\n",
       "      <td>0</td>\n",
       "      <td>0</td>\n",
       "      <td>0</td>\n",
       "      <td>0</td>\n",
       "      <td>12</td>\n",
       "      <td>2008</td>\n",
       "      <td>250000</td>\n",
       "    </tr>\n",
       "  </tbody>\n",
       "</table>\n",
       "<p>5 rows × 36 columns</p>\n",
       "</div>"
      ],
      "text/plain": [
       "   MSSubClass  LotFrontage  LotArea  OverallQual  OverallCond  YearBuilt  \\\n",
       "0          60         65.0     8450            7            5       2003   \n",
       "1          20         80.0     9600            6            8       1976   \n",
       "2          60         68.0    11250            7            5       2001   \n",
       "3          70         60.0     9550            7            5       1915   \n",
       "4          60         84.0    14260            8            5       2000   \n",
       "\n",
       "   YearRemodAdd  MasVnrArea  BsmtFinSF1  BsmtFinSF2  ...  WoodDeckSF  \\\n",
       "0          2003       196.0         706           0  ...           0   \n",
       "1          1976         0.0         978           0  ...         298   \n",
       "2          2002       162.0         486           0  ...           0   \n",
       "3          1970         0.0         216           0  ...           0   \n",
       "4          2000       350.0         655           0  ...         192   \n",
       "\n",
       "   OpenPorchSF  EnclosedPorch  3SsnPorch  ScreenPorch  PoolArea  MiscVal  \\\n",
       "0           61              0          0            0         0        0   \n",
       "1            0              0          0            0         0        0   \n",
       "2           42              0          0            0         0        0   \n",
       "3           35            272          0            0         0        0   \n",
       "4           84              0          0            0         0        0   \n",
       "\n",
       "   MoSold  YrSold  SalePrice  \n",
       "0       2    2008     208500  \n",
       "1       5    2007     181500  \n",
       "2       9    2008     223500  \n",
       "3       2    2006     140000  \n",
       "4      12    2008     250000  \n",
       "\n",
       "[5 rows x 36 columns]"
      ]
     },
     "execution_count": 30,
     "metadata": {},
     "output_type": "execute_result"
    }
   ],
   "source": [
    "# Indentifying all numeric (float and int) variables in the dataset\n",
    "data_numeric = data.select_dtypes(include=['float64', 'int64'])\n",
    "data_numeric.head()"
   ]
  },
  {
   "cell_type": "code",
   "execution_count": 31,
   "metadata": {
    "executionInfo": {
     "elapsed": 410,
     "status": "ok",
     "timestamp": 1716884699721,
     "user": {
      "displayName": "Neha",
      "userId": "05120978174581133934"
     },
     "user_tz": -330
    },
    "id": "r9PaoyJPrb1X"
   },
   "outputs": [],
   "source": [
    "#storing them in a list\n",
    "numeric_cols = data_numeric.columns.to_list()"
   ]
  },
  {
   "cell_type": "code",
   "execution_count": null,
   "metadata": {
    "colab": {
     "base_uri": "https://localhost:8080/"
    },
    "executionInfo": {
     "elapsed": 5,
     "status": "ok",
     "timestamp": 1716521748834,
     "user": {
      "displayName": "Neha",
      "userId": "05120978174581133934"
     },
     "user_tz": -330
    },
    "id": "E3ryWjGQpcvN",
    "outputId": "96f4df00-a0c3-4e71-ceaa-a0132e4f45c9"
   },
   "outputs": [
    {
     "data": {
      "text/plain": [
       "['MSSubClass',\n",
       " 'LotFrontage',\n",
       " 'LotArea',\n",
       " 'OverallQual',\n",
       " 'OverallCond',\n",
       " 'YearBuilt',\n",
       " 'YearRemodAdd',\n",
       " 'MasVnrArea',\n",
       " 'BsmtFinSF1',\n",
       " 'BsmtFinSF2',\n",
       " 'BsmtUnfSF',\n",
       " 'TotalBsmtSF',\n",
       " '1stFlrSF',\n",
       " '2ndFlrSF',\n",
       " 'LowQualFinSF',\n",
       " 'GrLivArea',\n",
       " 'BsmtFullBath',\n",
       " 'BsmtHalfBath',\n",
       " 'FullBath',\n",
       " 'HalfBath',\n",
       " 'BedroomAbvGr',\n",
       " 'KitchenAbvGr',\n",
       " 'TotRmsAbvGrd',\n",
       " 'Fireplaces',\n",
       " 'GarageCars',\n",
       " 'GarageArea',\n",
       " 'WoodDeckSF',\n",
       " 'OpenPorchSF',\n",
       " 'EnclosedPorch',\n",
       " '3SsnPorch',\n",
       " 'ScreenPorch',\n",
       " 'PoolArea',\n",
       " 'MiscVal',\n",
       " 'MoSold',\n",
       " 'YrSold',\n",
       " 'SalePrice']"
      ]
     },
     "execution_count": 28,
     "metadata": {},
     "output_type": "execute_result"
    }
   ],
   "source": [
    "numeric_cols"
   ]
  },
  {
   "cell_type": "code",
   "execution_count": 32,
   "metadata": {
    "executionInfo": {
     "elapsed": 638,
     "status": "ok",
     "timestamp": 1716884703205,
     "user": {
      "displayName": "Neha",
      "userId": "05120978174581133934"
     },
     "user_tz": -330
    },
    "id": "Om8NzWfBtQzy"
   },
   "outputs": [],
   "source": [
    "#removing the categorical columns from the list of numeric columns\n",
    "##MSSubClass,OverallQual,OverallCond,YearBuilt,YearRemodAdd,MoSold,YrSold\n",
    "addn_cols = [\"MSSubClass\",\"OverallQual\",\"OverallCond\",\"YearBuilt\",\"YearRemodAdd\",\"MoSold\",\"YrSold\"]\n",
    "for col in addn_cols:\n",
    "    numeric_cols.remove(col);"
   ]
  },
  {
   "cell_type": "code",
   "execution_count": 33,
   "metadata": {
    "executionInfo": {
     "elapsed": 3,
     "status": "ok",
     "timestamp": 1716884704647,
     "user": {
      "displayName": "Neha",
      "userId": "05120978174581133934"
     },
     "user_tz": -330
    },
    "id": "DoY_QYCCrZ_u"
   },
   "outputs": [],
   "source": [
    "#Also converting their datatypes to categorical\n",
    "#MSSubClass,OverallQual,OverallCond,YearBuilt,YearRemodAdd,MoSold,YrSold\n",
    "for col in addn_cols:\n",
    "    data[col] = data[col].astype('object')\n"
   ]
  },
  {
   "cell_type": "code",
   "execution_count": 34,
   "metadata": {
    "colab": {
     "base_uri": "https://localhost:8080/",
     "height": 256
    },
    "executionInfo": {
     "elapsed": 427,
     "status": "ok",
     "timestamp": 1716884713041,
     "user": {
      "displayName": "Neha",
      "userId": "05120978174581133934"
     },
     "user_tz": -330
    },
    "id": "81PS15_Knz4k",
    "outputId": "665b14e0-7bef-4b1c-e84c-bd4268d0d26e"
   },
   "outputs": [
    {
     "data": {
      "text/html": [
       "<div>\n",
       "<style scoped>\n",
       "    .dataframe tbody tr th:only-of-type {\n",
       "        vertical-align: middle;\n",
       "    }\n",
       "\n",
       "    .dataframe tbody tr th {\n",
       "        vertical-align: top;\n",
       "    }\n",
       "\n",
       "    .dataframe thead th {\n",
       "        text-align: right;\n",
       "    }\n",
       "</style>\n",
       "<table border=\"1\" class=\"dataframe\">\n",
       "  <thead>\n",
       "    <tr style=\"text-align: right;\">\n",
       "      <th></th>\n",
       "      <th>MSSubClass</th>\n",
       "      <th>MSZoning</th>\n",
       "      <th>Street</th>\n",
       "      <th>LotShape</th>\n",
       "      <th>LandContour</th>\n",
       "      <th>Utilities</th>\n",
       "      <th>LotConfig</th>\n",
       "      <th>LandSlope</th>\n",
       "      <th>Neighborhood</th>\n",
       "      <th>Condition1</th>\n",
       "      <th>...</th>\n",
       "      <th>GarageType</th>\n",
       "      <th>GarageYrBlt</th>\n",
       "      <th>GarageFinish</th>\n",
       "      <th>GarageQual</th>\n",
       "      <th>GarageCond</th>\n",
       "      <th>PavedDrive</th>\n",
       "      <th>MoSold</th>\n",
       "      <th>YrSold</th>\n",
       "      <th>SaleType</th>\n",
       "      <th>SaleCondition</th>\n",
       "    </tr>\n",
       "  </thead>\n",
       "  <tbody>\n",
       "    <tr>\n",
       "      <th>0</th>\n",
       "      <td>60</td>\n",
       "      <td>RL</td>\n",
       "      <td>Pave</td>\n",
       "      <td>Reg</td>\n",
       "      <td>Lvl</td>\n",
       "      <td>AllPub</td>\n",
       "      <td>Inside</td>\n",
       "      <td>Gtl</td>\n",
       "      <td>CollgCr</td>\n",
       "      <td>Norm</td>\n",
       "      <td>...</td>\n",
       "      <td>Attchd</td>\n",
       "      <td>2003.0</td>\n",
       "      <td>RFn</td>\n",
       "      <td>TA</td>\n",
       "      <td>TA</td>\n",
       "      <td>Y</td>\n",
       "      <td>2</td>\n",
       "      <td>2008</td>\n",
       "      <td>WD</td>\n",
       "      <td>Normal</td>\n",
       "    </tr>\n",
       "    <tr>\n",
       "      <th>1</th>\n",
       "      <td>20</td>\n",
       "      <td>RL</td>\n",
       "      <td>Pave</td>\n",
       "      <td>Reg</td>\n",
       "      <td>Lvl</td>\n",
       "      <td>AllPub</td>\n",
       "      <td>FR2</td>\n",
       "      <td>Gtl</td>\n",
       "      <td>Veenker</td>\n",
       "      <td>Feedr</td>\n",
       "      <td>...</td>\n",
       "      <td>Attchd</td>\n",
       "      <td>1976.0</td>\n",
       "      <td>RFn</td>\n",
       "      <td>TA</td>\n",
       "      <td>TA</td>\n",
       "      <td>Y</td>\n",
       "      <td>5</td>\n",
       "      <td>2007</td>\n",
       "      <td>WD</td>\n",
       "      <td>Normal</td>\n",
       "    </tr>\n",
       "    <tr>\n",
       "      <th>2</th>\n",
       "      <td>60</td>\n",
       "      <td>RL</td>\n",
       "      <td>Pave</td>\n",
       "      <td>IR1</td>\n",
       "      <td>Lvl</td>\n",
       "      <td>AllPub</td>\n",
       "      <td>Inside</td>\n",
       "      <td>Gtl</td>\n",
       "      <td>CollgCr</td>\n",
       "      <td>Norm</td>\n",
       "      <td>...</td>\n",
       "      <td>Attchd</td>\n",
       "      <td>2001.0</td>\n",
       "      <td>RFn</td>\n",
       "      <td>TA</td>\n",
       "      <td>TA</td>\n",
       "      <td>Y</td>\n",
       "      <td>9</td>\n",
       "      <td>2008</td>\n",
       "      <td>WD</td>\n",
       "      <td>Normal</td>\n",
       "    </tr>\n",
       "    <tr>\n",
       "      <th>3</th>\n",
       "      <td>70</td>\n",
       "      <td>RL</td>\n",
       "      <td>Pave</td>\n",
       "      <td>IR1</td>\n",
       "      <td>Lvl</td>\n",
       "      <td>AllPub</td>\n",
       "      <td>Corner</td>\n",
       "      <td>Gtl</td>\n",
       "      <td>Crawfor</td>\n",
       "      <td>Norm</td>\n",
       "      <td>...</td>\n",
       "      <td>Detchd</td>\n",
       "      <td>1998.0</td>\n",
       "      <td>Unf</td>\n",
       "      <td>TA</td>\n",
       "      <td>TA</td>\n",
       "      <td>Y</td>\n",
       "      <td>2</td>\n",
       "      <td>2006</td>\n",
       "      <td>WD</td>\n",
       "      <td>Abnorml</td>\n",
       "    </tr>\n",
       "    <tr>\n",
       "      <th>4</th>\n",
       "      <td>60</td>\n",
       "      <td>RL</td>\n",
       "      <td>Pave</td>\n",
       "      <td>IR1</td>\n",
       "      <td>Lvl</td>\n",
       "      <td>AllPub</td>\n",
       "      <td>FR2</td>\n",
       "      <td>Gtl</td>\n",
       "      <td>NoRidge</td>\n",
       "      <td>Norm</td>\n",
       "      <td>...</td>\n",
       "      <td>Attchd</td>\n",
       "      <td>2000.0</td>\n",
       "      <td>RFn</td>\n",
       "      <td>TA</td>\n",
       "      <td>TA</td>\n",
       "      <td>Y</td>\n",
       "      <td>12</td>\n",
       "      <td>2008</td>\n",
       "      <td>WD</td>\n",
       "      <td>Normal</td>\n",
       "    </tr>\n",
       "  </tbody>\n",
       "</table>\n",
       "<p>5 rows × 47 columns</p>\n",
       "</div>"
      ],
      "text/plain": [
       "  MSSubClass MSZoning Street LotShape LandContour Utilities LotConfig  \\\n",
       "0         60       RL   Pave      Reg         Lvl    AllPub    Inside   \n",
       "1         20       RL   Pave      Reg         Lvl    AllPub       FR2   \n",
       "2         60       RL   Pave      IR1         Lvl    AllPub    Inside   \n",
       "3         70       RL   Pave      IR1         Lvl    AllPub    Corner   \n",
       "4         60       RL   Pave      IR1         Lvl    AllPub       FR2   \n",
       "\n",
       "  LandSlope Neighborhood Condition1  ... GarageType GarageYrBlt GarageFinish  \\\n",
       "0       Gtl      CollgCr       Norm  ...     Attchd      2003.0          RFn   \n",
       "1       Gtl      Veenker      Feedr  ...     Attchd      1976.0          RFn   \n",
       "2       Gtl      CollgCr       Norm  ...     Attchd      2001.0          RFn   \n",
       "3       Gtl      Crawfor       Norm  ...     Detchd      1998.0          Unf   \n",
       "4       Gtl      NoRidge       Norm  ...     Attchd      2000.0          RFn   \n",
       "\n",
       "  GarageQual GarageCond PavedDrive MoSold YrSold SaleType SaleCondition  \n",
       "0         TA         TA          Y      2   2008       WD        Normal  \n",
       "1         TA         TA          Y      5   2007       WD        Normal  \n",
       "2         TA         TA          Y      9   2008       WD        Normal  \n",
       "3         TA         TA          Y      2   2006       WD       Abnorml  \n",
       "4         TA         TA          Y     12   2008       WD        Normal  \n",
       "\n",
       "[5 rows x 47 columns]"
      ]
     },
     "execution_count": 34,
     "metadata": {},
     "output_type": "execute_result"
    }
   ],
   "source": [
    "#indentifying all categorical variables in the dataset\n",
    "data_category = data.select_dtypes(include=['object'])\n",
    "data_category.head()"
   ]
  },
  {
   "cell_type": "code",
   "execution_count": 35,
   "metadata": {
    "colab": {
     "base_uri": "https://localhost:8080/"
    },
    "executionInfo": {
     "elapsed": 379,
     "status": "ok",
     "timestamp": 1716824449125,
     "user": {
      "displayName": "Neha",
      "userId": "05120978174581133934"
     },
     "user_tz": -330
    },
    "id": "XuudKvvXL9BH",
    "outputId": "65d8991d-51ba-404b-d53d-ce1c95a28623"
   },
   "outputs": [
    {
     "data": {
      "text/plain": [
       "29"
      ]
     },
     "execution_count": 35,
     "metadata": {},
     "output_type": "execute_result"
    }
   ],
   "source": [
    "len(numeric_cols)"
   ]
  },
  {
   "cell_type": "code",
   "execution_count": 36,
   "metadata": {
    "executionInfo": {
     "elapsed": 914,
     "status": "ok",
     "timestamp": 1716884717023,
     "user": {
      "displayName": "Neha",
      "userId": "05120978174581133934"
     },
     "user_tz": -330
    },
    "id": "488zTbS2pnjX"
   },
   "outputs": [],
   "source": [
    "cat_cols = data_category.columns.to_list()"
   ]
  },
  {
   "cell_type": "markdown",
   "metadata": {
    "id": "fq8xBH78TdwF"
   },
   "source": [
    "#### Visualizing Trends"
   ]
  },
  {
   "cell_type": "code",
   "execution_count": 37,
   "metadata": {
    "colab": {
     "base_uri": "https://localhost:8080/",
     "height": 774
    },
    "executionInfo": {
     "elapsed": 2596,
     "status": "ok",
     "timestamp": 1716884759738,
     "user": {
      "displayName": "Neha",
      "userId": "05120978174581133934"
     },
     "user_tz": -330
    },
    "id": "Q1CRozdfTlDZ",
    "outputId": "5a5d08c4-19ab-4464-9597-c2ee3141d78e"
   },
   "outputs": [
    {
     "data": {
      "image/png": "[encoded data removed]",
      "text/plain": [
       "<Figure size 1152x576 with 2 Axes>"
      ]
     },
     "metadata": {
      "needs_background": "light"
     },
     "output_type": "display_data"
    }
   ],
   "source": [
    "#Visualising the correlation between continuous values\n",
    "# figure size\n",
    "plt.figure(figsize=(16,8))\n",
    "sns.heatmap(data[numeric_cols].corr())\n",
    "plt.show()"
   ]
  },
  {
   "cell_type": "code",
   "execution_count": 38,
   "metadata": {
    "colab": {
     "base_uri": "https://localhost:8080/",
     "height": 403
    },
    "executionInfo": {
     "elapsed": 1299,
     "status": "ok",
     "timestamp": 1716884771772,
     "user": {
      "displayName": "Neha",
      "userId": "05120978174581133934"
     },
     "user_tz": -330
    },
    "id": "dcnZTZxRTdYd",
    "outputId": "fb85585b-bba3-4e12-b92d-7e82bae49a05"
   },
   "outputs": [
    {
     "data": {
      "image/png": "[encoded data removed]",
      "text/plain": [
       "<Figure size 360x288 with 1 Axes>"
      ]
     },
     "metadata": {
      "needs_background": "light"
     },
     "output_type": "display_data"
    }
   ],
   "source": [
    "## analyse the target variable 'SalePrice'\n",
    "plt.figure(figsize=[5,4])\n",
    "sns.set_style('darkgrid')\n",
    "sns.distplot(data['SalePrice']);\n"
   ]
  },
  {
   "cell_type": "code",
   "execution_count": 39,
   "metadata": {
    "colab": {
     "base_uri": "https://localhost:8080/"
    },
    "executionInfo": {
     "elapsed": 406,
     "status": "ok",
     "timestamp": 1716884798956,
     "user": {
      "displayName": "Neha",
      "userId": "05120978174581133934"
     },
     "user_tz": -330
    },
    "id": "BJJ6EYLKTpng",
    "outputId": "2d56c409-b95b-4e8d-d7be-46a18be87051"
   },
   "outputs": [
    {
     "data": {
      "text/plain": [
       "1.8831110462405252"
      ]
     },
     "execution_count": 39,
     "metadata": {},
     "output_type": "execute_result"
    }
   ],
   "source": [
    "## Check the skewness of target variable\n",
    "data['SalePrice'].skew()\n",
    "#The target variable is right-skewed as the skewness is greater than 1"
   ]
  },
  {
   "cell_type": "code",
   "execution_count": 40,
   "metadata": {
    "colab": {
     "base_uri": "https://localhost:8080/"
    },
    "executionInfo": {
     "elapsed": 618,
     "status": "ok",
     "timestamp": 1716884811759,
     "user": {
      "displayName": "Neha",
      "userId": "05120978174581133934"
     },
     "user_tz": -330
    },
    "id": "Uzr0L0ADTuVy",
    "outputId": "89c08853-ea51-4d8e-93e4-d17c6d72cbba"
   },
   "outputs": [
    {
     "data": {
      "text/plain": [
       "0.12193841342297697"
      ]
     },
     "execution_count": 40,
     "metadata": {},
     "output_type": "execute_result"
    }
   ],
   "source": [
    "## Log transform the target variable\n",
    "data['SalePrice'] = np.log(data['SalePrice'])\n",
    "\n",
    "## Check the skewness of target variable again. Skewness is under 1\n",
    "data['SalePrice'].skew()"
   ]
  },
  {
   "cell_type": "markdown",
   "metadata": {
    "id": "OnvdcPuBY8cl"
   },
   "source": [
    "  ### Step 3: Preparing the data for model building\n",
    "- Label encoding\n",
    "- Standardization\n",
    "- Split into X and y\n",
    "- Divide into test and train split"
   ]
  },
  {
   "cell_type": "markdown",
   "metadata": {
    "id": "Y4wWnWxsz3iP"
   },
   "source": [
    "#### Label Encoding"
   ]
  },
  {
   "cell_type": "code",
   "execution_count": 41,
   "metadata": {
    "executionInfo": {
     "elapsed": 739,
     "status": "ok",
     "timestamp": 1716884820710,
     "user": {
      "displayName": "Neha",
      "userId": "05120978174581133934"
     },
     "user_tz": -330
    },
    "id": "FFsd5Otn1P5e"
   },
   "outputs": [],
   "source": [
    "encoder =LabelEncoder()"
   ]
  },
  {
   "cell_type": "code",
   "execution_count": 42,
   "metadata": {
    "executionInfo": {
     "elapsed": 3,
     "status": "ok",
     "timestamp": 1716884822452,
     "user": {
      "displayName": "Neha",
      "userId": "05120978174581133934"
     },
     "user_tz": -330
    },
    "id": "cNJW2xj71P0c"
   },
   "outputs": [],
   "source": [
    "#encoding all cat columns that are nominal in nature (except for OverallQual and OverallCond )\n",
    "\n",
    "cat_cols.remove(\"OverallQual\")\n",
    "cat_cols.remove(\"OverallCond\")"
   ]
  },
  {
   "cell_type": "code",
   "execution_count": 43,
   "metadata": {
    "colab": {
     "base_uri": "https://localhost:8080/"
    },
    "executionInfo": {
     "elapsed": 468,
     "status": "ok",
     "timestamp": 1716884829493,
     "user": {
      "displayName": "Neha",
      "userId": "05120978174581133934"
     },
     "user_tz": -330
    },
    "id": "ZjKbna-YySuJ",
    "outputId": "f9826ce5-b8c8-457e-b289-e685155ca36e"
   },
   "outputs": [
    {
     "name": "stdout",
     "output_type": "stream",
     "text": [
      "MSSubClass :  [60 20 70 50 190 45 90 120 30 85 80 160 75 180 40]\n",
      "MSZoning :  ['RL' 'RM' 'C (all)' 'FV' 'RH']\n",
      "Street :  ['Pave' 'Grvl']\n",
      "LotShape :  ['Reg' 'IR1' 'IR2' 'IR3']\n",
      "LandContour :  ['Lvl' 'Bnk' 'Low' 'HLS']\n",
      "Utilities :  ['AllPub' 'NoSeWa']\n",
      "LotConfig :  ['Inside' 'FR2' 'Corner' 'CulDSac' 'FR3']\n",
      "LandSlope :  ['Gtl' 'Mod' 'Sev']\n",
      "Neighborhood :  ['CollgCr' 'Veenker' 'Crawfor' 'NoRidge' 'Mitchel' 'Somerst' 'NWAmes'\n",
      " 'OldTown' 'BrkSide' 'Sawyer' 'NridgHt' 'NAmes' 'SawyerW' 'IDOTRR'\n",
      " 'MeadowV' 'Edwards' 'Timber' 'Gilbert' 'StoneBr' 'ClearCr' 'NPkVill'\n",
      " 'Blmngtn' 'BrDale' 'SWISU' 'Blueste']\n",
      "Condition1 :  ['Norm' 'Feedr' 'PosN' 'Artery' 'RRAe' 'RRNn' 'RRAn' 'PosA' 'RRNe']\n",
      "Condition2 :  ['Norm' 'Artery' 'RRNn' 'Feedr' 'PosN' 'PosA' 'RRAn' 'RRAe']\n",
      "BldgType :  ['1Fam' '2fmCon' 'Duplex' 'TwnhsE' 'Twnhs']\n",
      "HouseStyle :  ['2Story' '1Story' '1.5Fin' '1.5Unf' 'SFoyer' 'SLvl' '2.5Unf' '2.5Fin']\n",
      "YearBuilt :  [2003 1976 2001 1915 2000 1993 2004 1973 1931 1939 1965 2005 1962 2006\n",
      " 1960 1929 1970 1967 1958 1930 2002 1968 2007 1951 1957 1927 1920 1966\n",
      " 1959 1994 1954 1953 1955 1983 1975 1997 1934 1963 1981 1964 1999 1972\n",
      " 1921 1945 1982 1998 1956 1948 1910 1995 1991 2009 1950 1961 1977 1985\n",
      " 1979 1885 1919 1990 1969 1935 1988 1971 1952 1936 1923 1924 1984 1926\n",
      " 1940 1941 1987 1986 2008 1908 1892 1916 1932 1918 1912 1947 1925 1900\n",
      " 1980 1989 1992 1949 1880 1928 1978 1922 1996 2010 1946 1913 1937 1942\n",
      " 1938 1974 1893 1914 1906 1890 1898 1904 1882 1875 1911 1917 1872 1905]\n",
      "YearRemodAdd :  [2003 1976 2002 1970 2000 1995 2005 1973 1950 1965 2006 1962 2007 1960\n",
      " 2001 1967 2004 2008 1997 1959 1990 1955 1983 1980 1966 1963 1987 1964\n",
      " 1972 1996 1998 1989 1953 1956 1968 1981 1992 2009 1982 1961 1993 1999\n",
      " 1985 1979 1977 1969 1958 1991 1971 1952 1975 2010 1984 1986 1994 1988\n",
      " 1954 1957 1951 1978 1974]\n",
      "RoofStyle :  ['Gable' 'Hip' 'Gambrel' 'Mansard' 'Flat' 'Shed']\n",
      "RoofMatl :  ['CompShg' 'WdShngl' 'Metal' 'WdShake' 'Membran' 'Tar&Grv' 'Roll'\n",
      " 'ClyTile']\n",
      "Exterior1st :  ['VinylSd' 'MetalSd' 'Wd Sdng' 'HdBoard' 'BrkFace' 'WdShing' 'CemntBd'\n",
      " 'Plywood' 'AsbShng' 'Stucco' 'BrkComm' 'AsphShn' 'Stone' 'ImStucc'\n",
      " 'CBlock']\n",
      "Exterior2nd :  ['VinylSd' 'MetalSd' 'Wd Shng' 'HdBoard' 'Plywood' 'Wd Sdng' 'CmentBd'\n",
      " 'BrkFace' 'Stucco' 'AsbShng' 'Brk Cmn' 'ImStucc' 'AsphShn' 'Other'\n",
      " 'Stone' 'CBlock']\n",
      "MasVnrType :  ['BrkFace' 'None' 'Stone' 'BrkCmn']\n",
      "ExterQual :  ['Gd' 'TA' 'Ex' 'Fa']\n",
      "ExterCond :  ['TA' 'Gd' 'Fa' 'Po' 'Ex']\n",
      "Foundation :  ['PConc' 'CBlock' 'BrkTil' 'Wood' 'Slab' 'Stone']\n",
      "BsmtQual :  ['Gd' 'TA' 'Ex' 'Fa']\n",
      "BsmtCond :  ['TA' 'Gd' 'Fa' 'Po']\n",
      "BsmtExposure :  ['No' 'Gd' 'Mn' 'Av']\n",
      "BsmtFinType1 :  ['GLQ' 'ALQ' 'Unf' 'Rec' 'BLQ' 'LwQ']\n",
      "BsmtFinType2 :  ['Unf' 'BLQ' 'ALQ' 'Rec' 'LwQ' 'GLQ']\n",
      "Heating :  ['GasA' 'GasW' 'Grav' 'Wall' 'OthW' 'Floor']\n",
      "HeatingQC :  ['Ex' 'Gd' 'TA' 'Fa' 'Po']\n",
      "CentralAir :  ['Y' 'N']\n",
      "Electrical :  ['SBrkr' 'FuseF' 'FuseA' 'FuseP' 'Mix']\n",
      "KitchenQual :  ['Gd' 'TA' 'Ex' 'Fa']\n",
      "Functional :  ['Typ' 'Min1' 'Maj1' 'Min2' 'Mod' 'Maj2' 'Sev']\n",
      "FireplaceQu :  ['Gd' 'TA' 'Fa' 'Ex' 'Po']\n",
      "GarageType :  ['Attchd' 'Detchd' 'BuiltIn' 'CarPort' 'Basment' '2Types']\n",
      "GarageYrBlt :  [2003.0 1976.0 2001.0 1998.0 2000.0 1993.0 2004.0 1973.0 1931.0 1939.0\n",
      " 1965.0 2005.0 1962.0 2006.0 1960.0 1991.0 1970.0 1967.0 1958.0 1930.0\n",
      " 2002.0 1968.0 2007.0 2008.0 1957.0 1920.0 1966.0 1959.0 1995.0 1954.0\n",
      " 1953.0 '2005.0' 1983.0 1977.0 1997.0 1985.0 1963.0 1981.0 1964.0 1999.0\n",
      " 1935.0 1990.0 1945.0 1987.0 1989.0 1915.0 1956.0 1948.0 1974.0 2009.0\n",
      " 1950.0 1961.0 1921.0 1900.0 1979.0 1951.0 1969.0 1936.0 1975.0 1971.0\n",
      " 1923.0 1984.0 1926.0 1955.0 1986.0 1988.0 1916.0 1932.0 1972.0 1918.0\n",
      " 1980.0 1924.0 1996.0 1940.0 1949.0 1994.0 1910.0 1978.0 1982.0 1992.0\n",
      " 1925.0 1941.0 2010.0 1927.0 1947.0 1937.0 1942.0 1938.0 1952.0 1928.0\n",
      " 1922.0 1934.0 1906.0 1914.0 1946.0 1908.0 1929.0 1933.0]\n",
      "GarageFinish :  ['RFn' 'Unf' 'Fin']\n",
      "GarageQual :  ['TA' 'Fa' 'Gd' 'Ex' 'Po']\n",
      "GarageCond :  ['TA' 'Fa' 'Gd' 'Po' 'Ex']\n",
      "PavedDrive :  ['Y' 'N' 'P']\n",
      "MoSold :  [2 5 9 12 10 8 11 4 1 7 3 6]\n",
      "YrSold :  [2008 2007 2006 2009 2010]\n",
      "SaleType :  ['WD' 'New' 'COD' 'ConLD' 'ConLI' 'CWD' 'ConLw' 'Con' 'Oth']\n",
      "SaleCondition :  ['Normal' 'Abnorml' 'Partial' 'AdjLand' 'Alloca' 'Family']\n"
     ]
    }
   ],
   "source": [
    "#verifying each of the columns for unique values before encoding them\n",
    "for col in cat_cols:\n",
    "      print(col +\" : \",data[col].unique())"
   ]
  },
  {
   "cell_type": "code",
   "execution_count": 44,
   "metadata": {
    "executionInfo": {
     "elapsed": 358,
     "status": "ok",
     "timestamp": 1716884833108,
     "user": {
      "displayName": "Neha",
      "userId": "05120978174581133934"
     },
     "user_tz": -330
    },
    "id": "5Tyl7zfL1Pi0"
   },
   "outputs": [],
   "source": [
    "for col in cat_cols:\n",
    "    data[col] = encoder.fit_transform(data[col].astype(str))"
   ]
  },
  {
   "cell_type": "code",
   "execution_count": 45,
   "metadata": {
    "colab": {
     "base_uri": "https://localhost:8080/",
     "height": 256
    },
    "executionInfo": {
     "elapsed": 6,
     "status": "ok",
     "timestamp": 1716884835209,
     "user": {
      "displayName": "Neha",
      "userId": "05120978174581133934"
     },
     "user_tz": -330
    },
    "id": "bZ_5ed7NMyxp",
    "outputId": "3f149237-c55a-45bf-d434-eb8f46512b68"
   },
   "outputs": [
    {
     "data": {
      "text/html": [
       "<div>\n",
       "<style scoped>\n",
       "    .dataframe tbody tr th:only-of-type {\n",
       "        vertical-align: middle;\n",
       "    }\n",
       "\n",
       "    .dataframe tbody tr th {\n",
       "        vertical-align: top;\n",
       "    }\n",
       "\n",
       "    .dataframe thead th {\n",
       "        text-align: right;\n",
       "    }\n",
       "</style>\n",
       "<table border=\"1\" class=\"dataframe\">\n",
       "  <thead>\n",
       "    <tr style=\"text-align: right;\">\n",
       "      <th></th>\n",
       "      <th>MSSubClass</th>\n",
       "      <th>MSZoning</th>\n",
       "      <th>LotFrontage</th>\n",
       "      <th>LotArea</th>\n",
       "      <th>Street</th>\n",
       "      <th>LotShape</th>\n",
       "      <th>LandContour</th>\n",
       "      <th>Utilities</th>\n",
       "      <th>LotConfig</th>\n",
       "      <th>LandSlope</th>\n",
       "      <th>...</th>\n",
       "      <th>EnclosedPorch</th>\n",
       "      <th>3SsnPorch</th>\n",
       "      <th>ScreenPorch</th>\n",
       "      <th>PoolArea</th>\n",
       "      <th>MiscVal</th>\n",
       "      <th>MoSold</th>\n",
       "      <th>YrSold</th>\n",
       "      <th>SaleType</th>\n",
       "      <th>SaleCondition</th>\n",
       "      <th>SalePrice</th>\n",
       "    </tr>\n",
       "  </thead>\n",
       "  <tbody>\n",
       "    <tr>\n",
       "      <th>0</th>\n",
       "      <td>9</td>\n",
       "      <td>3</td>\n",
       "      <td>65.0</td>\n",
       "      <td>8450</td>\n",
       "      <td>1</td>\n",
       "      <td>3</td>\n",
       "      <td>3</td>\n",
       "      <td>0</td>\n",
       "      <td>4</td>\n",
       "      <td>0</td>\n",
       "      <td>...</td>\n",
       "      <td>0</td>\n",
       "      <td>0</td>\n",
       "      <td>0</td>\n",
       "      <td>0</td>\n",
       "      <td>0</td>\n",
       "      <td>4</td>\n",
       "      <td>2</td>\n",
       "      <td>8</td>\n",
       "      <td>4</td>\n",
       "      <td>12.247694</td>\n",
       "    </tr>\n",
       "    <tr>\n",
       "      <th>1</th>\n",
       "      <td>4</td>\n",
       "      <td>3</td>\n",
       "      <td>80.0</td>\n",
       "      <td>9600</td>\n",
       "      <td>1</td>\n",
       "      <td>3</td>\n",
       "      <td>3</td>\n",
       "      <td>0</td>\n",
       "      <td>2</td>\n",
       "      <td>0</td>\n",
       "      <td>...</td>\n",
       "      <td>0</td>\n",
       "      <td>0</td>\n",
       "      <td>0</td>\n",
       "      <td>0</td>\n",
       "      <td>0</td>\n",
       "      <td>7</td>\n",
       "      <td>1</td>\n",
       "      <td>8</td>\n",
       "      <td>4</td>\n",
       "      <td>12.109011</td>\n",
       "    </tr>\n",
       "    <tr>\n",
       "      <th>2</th>\n",
       "      <td>9</td>\n",
       "      <td>3</td>\n",
       "      <td>68.0</td>\n",
       "      <td>11250</td>\n",
       "      <td>1</td>\n",
       "      <td>0</td>\n",
       "      <td>3</td>\n",
       "      <td>0</td>\n",
       "      <td>4</td>\n",
       "      <td>0</td>\n",
       "      <td>...</td>\n",
       "      <td>0</td>\n",
       "      <td>0</td>\n",
       "      <td>0</td>\n",
       "      <td>0</td>\n",
       "      <td>0</td>\n",
       "      <td>11</td>\n",
       "      <td>2</td>\n",
       "      <td>8</td>\n",
       "      <td>4</td>\n",
       "      <td>12.317167</td>\n",
       "    </tr>\n",
       "    <tr>\n",
       "      <th>3</th>\n",
       "      <td>10</td>\n",
       "      <td>3</td>\n",
       "      <td>60.0</td>\n",
       "      <td>9550</td>\n",
       "      <td>1</td>\n",
       "      <td>0</td>\n",
       "      <td>3</td>\n",
       "      <td>0</td>\n",
       "      <td>0</td>\n",
       "      <td>0</td>\n",
       "      <td>...</td>\n",
       "      <td>272</td>\n",
       "      <td>0</td>\n",
       "      <td>0</td>\n",
       "      <td>0</td>\n",
       "      <td>0</td>\n",
       "      <td>4</td>\n",
       "      <td>0</td>\n",
       "      <td>8</td>\n",
       "      <td>0</td>\n",
       "      <td>11.849398</td>\n",
       "    </tr>\n",
       "    <tr>\n",
       "      <th>4</th>\n",
       "      <td>9</td>\n",
       "      <td>3</td>\n",
       "      <td>84.0</td>\n",
       "      <td>14260</td>\n",
       "      <td>1</td>\n",
       "      <td>0</td>\n",
       "      <td>3</td>\n",
       "      <td>0</td>\n",
       "      <td>2</td>\n",
       "      <td>0</td>\n",
       "      <td>...</td>\n",
       "      <td>0</td>\n",
       "      <td>0</td>\n",
       "      <td>0</td>\n",
       "      <td>0</td>\n",
       "      <td>0</td>\n",
       "      <td>3</td>\n",
       "      <td>2</td>\n",
       "      <td>8</td>\n",
       "      <td>4</td>\n",
       "      <td>12.429216</td>\n",
       "    </tr>\n",
       "  </tbody>\n",
       "</table>\n",
       "<p>5 rows × 76 columns</p>\n",
       "</div>"
      ],
      "text/plain": [
       "   MSSubClass  MSZoning  LotFrontage  LotArea  Street  LotShape  LandContour  \\\n",
       "0           9         3         65.0     8450       1         3            3   \n",
       "1           4         3         80.0     9600       1         3            3   \n",
       "2           9         3         68.0    11250       1         0            3   \n",
       "3          10         3         60.0     9550       1         0            3   \n",
       "4           9         3         84.0    14260       1         0            3   \n",
       "\n",
       "   Utilities  LotConfig  LandSlope  ...  EnclosedPorch  3SsnPorch  \\\n",
       "0          0          4          0  ...              0          0   \n",
       "1          0          2          0  ...              0          0   \n",
       "2          0          4          0  ...              0          0   \n",
       "3          0          0          0  ...            272          0   \n",
       "4          0          2          0  ...              0          0   \n",
       "\n",
       "   ScreenPorch  PoolArea  MiscVal MoSold YrSold  SaleType  SaleCondition  \\\n",
       "0            0         0        0      4      2         8              4   \n",
       "1            0         0        0      7      1         8              4   \n",
       "2            0         0        0     11      2         8              4   \n",
       "3            0         0        0      4      0         8              0   \n",
       "4            0         0        0      3      2         8              4   \n",
       "\n",
       "   SalePrice  \n",
       "0  12.247694  \n",
       "1  12.109011  \n",
       "2  12.317167  \n",
       "3  11.849398  \n",
       "4  12.429216  \n",
       "\n",
       "[5 rows x 76 columns]"
      ]
     },
     "execution_count": 45,
     "metadata": {},
     "output_type": "execute_result"
    }
   ],
   "source": [
    "data.head()"
   ]
  },
  {
   "cell_type": "markdown",
   "metadata": {
    "id": "-oDV6gq61Xfp"
   },
   "source": [
    "#### Split into X and y"
   ]
  },
  {
   "cell_type": "code",
   "execution_count": 46,
   "metadata": {
    "executionInfo": {
     "elapsed": 599,
     "status": "ok",
     "timestamp": 1716885354985,
     "user": {
      "displayName": "Neha",
      "userId": "05120978174581133934"
     },
     "user_tz": -330
    },
    "id": "ta-LNW_IAZAy"
   },
   "outputs": [],
   "source": [
    "#Target variable stored in y\n",
    "y=data[\"SalePrice\"]"
   ]
  },
  {
   "cell_type": "code",
   "execution_count": 47,
   "metadata": {
    "executionInfo": {
     "elapsed": 5,
     "status": "ok",
     "timestamp": 1716885356951,
     "user": {
      "displayName": "Neha",
      "userId": "05120978174581133934"
     },
     "user_tz": -330
    },
    "id": "7kCXVKapBPN4"
   },
   "outputs": [],
   "source": [
    "#all predictors in variable X\n",
    "X = data.drop([\"SalePrice\"],axis=1)"
   ]
  },
  {
   "cell_type": "code",
   "execution_count": 48,
   "metadata": {
    "colab": {
     "base_uri": "https://localhost:8080/",
     "height": 256
    },
    "executionInfo": {
     "elapsed": 629,
     "status": "ok",
     "timestamp": 1716885359870,
     "user": {
      "displayName": "Neha",
      "userId": "05120978174581133934"
     },
     "user_tz": -330
    },
    "id": "jH1cO2BTAY8l",
    "outputId": "63dff6d5-54a4-412d-dc14-356de6bd417c"
   },
   "outputs": [
    {
     "data": {
      "text/html": [
       "<div>\n",
       "<style scoped>\n",
       "    .dataframe tbody tr th:only-of-type {\n",
       "        vertical-align: middle;\n",
       "    }\n",
       "\n",
       "    .dataframe tbody tr th {\n",
       "        vertical-align: top;\n",
       "    }\n",
       "\n",
       "    .dataframe thead th {\n",
       "        text-align: right;\n",
       "    }\n",
       "</style>\n",
       "<table border=\"1\" class=\"dataframe\">\n",
       "  <thead>\n",
       "    <tr style=\"text-align: right;\">\n",
       "      <th></th>\n",
       "      <th>MSSubClass</th>\n",
       "      <th>MSZoning</th>\n",
       "      <th>LotFrontage</th>\n",
       "      <th>LotArea</th>\n",
       "      <th>Street</th>\n",
       "      <th>LotShape</th>\n",
       "      <th>LandContour</th>\n",
       "      <th>Utilities</th>\n",
       "      <th>LotConfig</th>\n",
       "      <th>LandSlope</th>\n",
       "      <th>...</th>\n",
       "      <th>OpenPorchSF</th>\n",
       "      <th>EnclosedPorch</th>\n",
       "      <th>3SsnPorch</th>\n",
       "      <th>ScreenPorch</th>\n",
       "      <th>PoolArea</th>\n",
       "      <th>MiscVal</th>\n",
       "      <th>MoSold</th>\n",
       "      <th>YrSold</th>\n",
       "      <th>SaleType</th>\n",
       "      <th>SaleCondition</th>\n",
       "    </tr>\n",
       "  </thead>\n",
       "  <tbody>\n",
       "    <tr>\n",
       "      <th>0</th>\n",
       "      <td>9</td>\n",
       "      <td>3</td>\n",
       "      <td>65.0</td>\n",
       "      <td>8450</td>\n",
       "      <td>1</td>\n",
       "      <td>3</td>\n",
       "      <td>3</td>\n",
       "      <td>0</td>\n",
       "      <td>4</td>\n",
       "      <td>0</td>\n",
       "      <td>...</td>\n",
       "      <td>61</td>\n",
       "      <td>0</td>\n",
       "      <td>0</td>\n",
       "      <td>0</td>\n",
       "      <td>0</td>\n",
       "      <td>0</td>\n",
       "      <td>4</td>\n",
       "      <td>2</td>\n",
       "      <td>8</td>\n",
       "      <td>4</td>\n",
       "    </tr>\n",
       "    <tr>\n",
       "      <th>1</th>\n",
       "      <td>4</td>\n",
       "      <td>3</td>\n",
       "      <td>80.0</td>\n",
       "      <td>9600</td>\n",
       "      <td>1</td>\n",
       "      <td>3</td>\n",
       "      <td>3</td>\n",
       "      <td>0</td>\n",
       "      <td>2</td>\n",
       "      <td>0</td>\n",
       "      <td>...</td>\n",
       "      <td>0</td>\n",
       "      <td>0</td>\n",
       "      <td>0</td>\n",
       "      <td>0</td>\n",
       "      <td>0</td>\n",
       "      <td>0</td>\n",
       "      <td>7</td>\n",
       "      <td>1</td>\n",
       "      <td>8</td>\n",
       "      <td>4</td>\n",
       "    </tr>\n",
       "    <tr>\n",
       "      <th>2</th>\n",
       "      <td>9</td>\n",
       "      <td>3</td>\n",
       "      <td>68.0</td>\n",
       "      <td>11250</td>\n",
       "      <td>1</td>\n",
       "      <td>0</td>\n",
       "      <td>3</td>\n",
       "      <td>0</td>\n",
       "      <td>4</td>\n",
       "      <td>0</td>\n",
       "      <td>...</td>\n",
       "      <td>42</td>\n",
       "      <td>0</td>\n",
       "      <td>0</td>\n",
       "      <td>0</td>\n",
       "      <td>0</td>\n",
       "      <td>0</td>\n",
       "      <td>11</td>\n",
       "      <td>2</td>\n",
       "      <td>8</td>\n",
       "      <td>4</td>\n",
       "    </tr>\n",
       "    <tr>\n",
       "      <th>3</th>\n",
       "      <td>10</td>\n",
       "      <td>3</td>\n",
       "      <td>60.0</td>\n",
       "      <td>9550</td>\n",
       "      <td>1</td>\n",
       "      <td>0</td>\n",
       "      <td>3</td>\n",
       "      <td>0</td>\n",
       "      <td>0</td>\n",
       "      <td>0</td>\n",
       "      <td>...</td>\n",
       "      <td>35</td>\n",
       "      <td>272</td>\n",
       "      <td>0</td>\n",
       "      <td>0</td>\n",
       "      <td>0</td>\n",
       "      <td>0</td>\n",
       "      <td>4</td>\n",
       "      <td>0</td>\n",
       "      <td>8</td>\n",
       "      <td>0</td>\n",
       "    </tr>\n",
       "    <tr>\n",
       "      <th>4</th>\n",
       "      <td>9</td>\n",
       "      <td>3</td>\n",
       "      <td>84.0</td>\n",
       "      <td>14260</td>\n",
       "      <td>1</td>\n",
       "      <td>0</td>\n",
       "      <td>3</td>\n",
       "      <td>0</td>\n",
       "      <td>2</td>\n",
       "      <td>0</td>\n",
       "      <td>...</td>\n",
       "      <td>84</td>\n",
       "      <td>0</td>\n",
       "      <td>0</td>\n",
       "      <td>0</td>\n",
       "      <td>0</td>\n",
       "      <td>0</td>\n",
       "      <td>3</td>\n",
       "      <td>2</td>\n",
       "      <td>8</td>\n",
       "      <td>4</td>\n",
       "    </tr>\n",
       "  </tbody>\n",
       "</table>\n",
       "<p>5 rows × 75 columns</p>\n",
       "</div>"
      ],
      "text/plain": [
       "   MSSubClass  MSZoning  LotFrontage  LotArea  Street  LotShape  LandContour  \\\n",
       "0           9         3         65.0     8450       1         3            3   \n",
       "1           4         3         80.0     9600       1         3            3   \n",
       "2           9         3         68.0    11250       1         0            3   \n",
       "3          10         3         60.0     9550       1         0            3   \n",
       "4           9         3         84.0    14260       1         0            3   \n",
       "\n",
       "   Utilities  LotConfig  LandSlope  ...  OpenPorchSF  EnclosedPorch  \\\n",
       "0          0          4          0  ...           61              0   \n",
       "1          0          2          0  ...            0              0   \n",
       "2          0          4          0  ...           42              0   \n",
       "3          0          0          0  ...           35            272   \n",
       "4          0          2          0  ...           84              0   \n",
       "\n",
       "   3SsnPorch  ScreenPorch  PoolArea MiscVal MoSold  YrSold  SaleType  \\\n",
       "0          0            0         0       0      4       2         8   \n",
       "1          0            0         0       0      7       1         8   \n",
       "2          0            0         0       0     11       2         8   \n",
       "3          0            0         0       0      4       0         8   \n",
       "4          0            0         0       0      3       2         8   \n",
       "\n",
       "   SaleCondition  \n",
       "0              4  \n",
       "1              4  \n",
       "2              4  \n",
       "3              0  \n",
       "4              4  \n",
       "\n",
       "[5 rows x 75 columns]"
      ]
     },
     "execution_count": 48,
     "metadata": {},
     "output_type": "execute_result"
    }
   ],
   "source": [
    "X.head()"
   ]
  },
  {
   "cell_type": "code",
   "execution_count": 49,
   "metadata": {
    "colab": {
     "base_uri": "https://localhost:8080/"
    },
    "executionInfo": {
     "elapsed": 423,
     "status": "ok",
     "timestamp": 1716885362219,
     "user": {
      "displayName": "Neha",
      "userId": "05120978174581133934"
     },
     "user_tz": -330
    },
    "id": "9F-x2ECYNCXP",
    "outputId": "948ad622-c2c8-4812-b841-258761de11ea"
   },
   "outputs": [
    {
     "data": {
      "text/plain": [
       "0    12.247694\n",
       "1    12.109011\n",
       "2    12.317167\n",
       "3    11.849398\n",
       "4    12.429216\n",
       "Name: SalePrice, dtype: float64"
      ]
     },
     "execution_count": 49,
     "metadata": {},
     "output_type": "execute_result"
    }
   ],
   "source": [
    "y[:5]"
   ]
  },
  {
   "cell_type": "markdown",
   "metadata": {
    "id": "6rNOkXOt1a-c"
   },
   "source": [
    "#### Standardization"
   ]
  },
  {
   "cell_type": "code",
   "execution_count": 50,
   "metadata": {
    "executionInfo": {
     "elapsed": 362,
     "status": "ok",
     "timestamp": 1716885365307,
     "user": {
      "displayName": "Neha",
      "userId": "05120978174581133934"
     },
     "user_tz": -330
    },
    "id": "AQqGTQ_G1brF"
   },
   "outputs": [],
   "source": [
    "# scaling the features - necessary before using Ridge or Lasso\n",
    "scaler = StandardScaler()\n",
    "#storing all column names for future use as column names are  lost after scaling\n",
    "all_cols = X.columns"
   ]
  },
  {
   "cell_type": "code",
   "execution_count": 51,
   "metadata": {
    "executionInfo": {
     "elapsed": 899,
     "status": "ok",
     "timestamp": 1716885370048,
     "user": {
      "displayName": "Neha",
      "userId": "05120978174581133934"
     },
     "user_tz": -330
    },
    "id": "0DG-6UtiDiZQ"
   },
   "outputs": [],
   "source": [
    "X_std= scaler.fit_transform(X)"
   ]
  },
  {
   "cell_type": "code",
   "execution_count": 52,
   "metadata": {
    "colab": {
     "base_uri": "https://localhost:8080/"
    },
    "executionInfo": {
     "elapsed": 5,
     "status": "ok",
     "timestamp": 1716885371730,
     "user": {
      "displayName": "Neha",
      "userId": "05120978174581133934"
     },
     "user_tz": -330
    },
    "id": "VRGvIOO3R5Po",
    "outputId": "7cf50e7d-e3ce-4ac3-a21c-a6859d047748"
   },
   "outputs": [
    {
     "data": {
      "text/plain": [
       "array([[ 0.78629353, -0.05276102, -0.2198875 , ...,  0.13898538,\n",
       "         0.31255104,  0.2102448 ],\n",
       "       [-0.62537674, -0.05276102,  0.46079113, ..., -0.61350636,\n",
       "         0.31255104,  0.2102448 ],\n",
       "       [ 0.78629353, -0.05276102, -0.08375177, ...,  0.13898538,\n",
       "         0.31255104,  0.2102448 ],\n",
       "       ...,\n",
       "       [ 1.06862759, -0.05276102, -0.17450892, ...,  1.64396887,\n",
       "         0.31255104,  0.2102448 ],\n",
       "       [-0.62537674, -0.05276102, -0.08375177, ...,  1.64396887,\n",
       "         0.31255104,  0.2102448 ],\n",
       "       [-0.62537674, -0.05276102,  0.23389825, ...,  0.13898538,\n",
       "         0.31255104,  0.2102448 ]])"
      ]
     },
     "execution_count": 52,
     "metadata": {},
     "output_type": "execute_result"
    }
   ],
   "source": [
    "X_std"
   ]
  },
  {
   "cell_type": "markdown",
   "metadata": {
    "id": "f1942PnI1ka6"
   },
   "source": [
    "#### Divide into test and train split"
   ]
  },
  {
   "cell_type": "code",
   "execution_count": 53,
   "metadata": {
    "executionInfo": {
     "elapsed": 374,
     "status": "ok",
     "timestamp": 1716885374667,
     "user": {
      "displayName": "Neha",
      "userId": "05120978174581133934"
     },
     "user_tz": -330
    },
    "id": "4S59GNwF1k0F"
   },
   "outputs": [],
   "source": [
    "# split into train and test\n",
    "X_train, X_test, y_train, y_test = train_test_split(X_std, y,\n",
    "                                                    train_size=0.7,\n",
    "                                                    test_size = 0.3, random_state=100)"
   ]
  },
  {
   "cell_type": "markdown",
   "metadata": {
    "id": "v52iwsjyZZZ_"
   },
   "source": [
    "### Step 4:  Model Building and evaluation\n",
    "- Ridge regression\n",
    "- Lasso regression\n",
    "- Comparison of the 2 models\n",
    "- Find Best aplha"
   ]
  },
  {
   "cell_type": "markdown",
   "metadata": {
    "id": "9M06Bgl8FRRg"
   },
   "source": [
    "####Model 1 : Ridge Regression"
   ]
  },
  {
   "cell_type": "code",
   "execution_count": 54,
   "metadata": {
    "executionInfo": {
     "elapsed": 342,
     "status": "ok",
     "timestamp": 1716885378206,
     "user": {
      "displayName": "Neha",
      "userId": "05120978174581133934"
     },
     "user_tz": -330
    },
    "id": "cd749BQbZV9v"
   },
   "outputs": [],
   "source": [
    "# list of alphas to tune - if value too high it will lead to underfitting, if it is too low,\n",
    "# it will not handle the overfitting\n",
    "\n",
    "params = {'alpha': [0.0001, 0.001, 0.01, 0.05, 0.1, 0.2, 0.3, 0.4, 0.5, 0.6, 0.7, 0.8, 0.9, 1.0,\n",
    "                    2.0, 3.0, 4.0, 5.0, 6.0, 7.0, 8.0, 9.0, 10.0, 20, 50, 100, 500, 1000]}\n",
    "ridge = Ridge()"
   ]
  },
  {
   "cell_type": "code",
   "execution_count": 55,
   "metadata": {
    "colab": {
     "base_uri": "https://localhost:8080/",
     "height": 136
    },
    "executionInfo": {
     "elapsed": 2742,
     "status": "ok",
     "timestamp": 1716885383686,
     "user": {
      "displayName": "Neha",
      "userId": "05120978174581133934"
     },
     "user_tz": -330
    },
    "id": "5w75v9a4Fg_U",
    "outputId": "89e9afdd-fce8-45e2-d101-746af78b0ff1"
   },
   "outputs": [
    {
     "name": "stdout",
     "output_type": "stream",
     "text": [
      "Fitting 5 folds for each of 28 candidates, totalling 140 fits\n"
     ]
    },
    {
     "data": {
      "text/plain": [
       "GridSearchCV(cv=5, estimator=Ridge(),\n",
       "             param_grid={'alpha': [0.0001, 0.001, 0.01, 0.05, 0.1, 0.2, 0.3,\n",
       "                                   0.4, 0.5, 0.6, 0.7, 0.8, 0.9, 1.0, 2.0, 3.0,\n",
       "                                   4.0, 5.0, 6.0, 7.0, 8.0, 9.0, 10.0, 20, 50,\n",
       "                                   100, 500, 1000]},\n",
       "             return_train_score=True, scoring='neg_mean_absolute_error',\n",
       "             verbose=1)"
      ]
     },
     "execution_count": 55,
     "metadata": {},
     "output_type": "execute_result"
    }
   ],
   "source": [
    "# cross validation\n",
    "folds = 5\n",
    "model_cv = GridSearchCV(estimator = ridge,\n",
    "                        param_grid = params,\n",
    "                        scoring= 'neg_mean_absolute_error',\n",
    "                        cv = folds,\n",
    "                        return_train_score=True,\n",
    "                        verbose = 1)\n",
    "model_cv.fit(X_train, y_train)"
   ]
  },
  {
   "cell_type": "code",
   "execution_count": 56,
   "metadata": {
    "colab": {
     "base_uri": "https://localhost:8080/"
    },
    "executionInfo": {
     "elapsed": 391,
     "status": "ok",
     "timestamp": 1716885393254,
     "user": {
      "displayName": "Neha",
      "userId": "05120978174581133934"
     },
     "user_tz": -330
    },
    "id": "ljhfvR0nFnG9",
    "outputId": "335f3664-93cc-4a57-dd76-2914c90b72f3"
   },
   "outputs": [
    {
     "name": "stdout",
     "output_type": "stream",
     "text": [
      "{'alpha': 100}\n"
     ]
    }
   ],
   "source": [
    "# Printing the best hyperparameter alpha\n",
    "print(model_cv.best_params_)"
   ]
  },
  {
   "cell_type": "code",
   "execution_count": 57,
   "metadata": {
    "colab": {
     "base_uri": "https://localhost:8080/"
    },
    "executionInfo": {
     "elapsed": 387,
     "status": "ok",
     "timestamp": 1716885396714,
     "user": {
      "displayName": "Neha",
      "userId": "05120978174581133934"
     },
     "user_tz": -330
    },
    "id": "_KrTALK4FnD4",
    "outputId": "60505247-9e72-442d-b9d9-5d9eb21ed296"
   },
   "outputs": [
    {
     "name": "stdout",
     "output_type": "stream",
     "text": [
      "[ 0.01322114 -0.01266854 -0.00916183  0.01327639  0.0130196  -0.01275295\n",
      "  0.0108234  -0.0015167  -0.00602015  0.01472616  0.00593982  0.00061129\n",
      " -0.01956037 -0.00846785 -0.01444633  0.0839926   0.03435193  0.03266744\n",
      "  0.01955673  0.00937335  0.00669392 -0.00776983  0.01298842  0.00131795\n",
      "  0.00625125 -0.00618183  0.00542578  0.00775836 -0.02287402  0.0069037\n",
      " -0.00791598 -0.01588365  0.0040556   0.00277147  0.00670582  0.00449496\n",
      "  0.0112336  -0.00617123 -0.01603771  0.02134861  0.00431774  0.03470516\n",
      "  0.02089496  0.00477847  0.04319955  0.02527872  0.00252043  0.02065771\n",
      "  0.01231193  0.0159984  -0.01101319 -0.02448776  0.01993323  0.02006233\n",
      "  0.02154324 -0.00152865 -0.0144714  -0.0124265  -0.01209865  0.04628378\n",
      "  0.01290652 -0.00260596  0.00219106  0.01702612  0.01518454 -0.00233537\n",
      "  0.010831    0.00727299  0.01640025 -0.01340003 -0.0112542   0.01220301\n",
      " -0.00754085  0.00319814  0.02557835]\n"
     ]
    }
   ],
   "source": [
    "#Fitting Ridge model for alpha = 100 and printing coefficients which have been penalised\n",
    "alpha = 100\n",
    "ridge = Ridge(alpha=alpha)\n",
    "\n",
    "ridge.fit(X_train, y_train)\n",
    "print(ridge.coef_)"
   ]
  },
  {
   "cell_type": "code",
   "execution_count": 58,
   "metadata": {
    "executionInfo": {
     "elapsed": 446,
     "status": "ok",
     "timestamp": 1716885400362,
     "user": {
      "displayName": "Neha",
      "userId": "05120978174581133934"
     },
     "user_tz": -330
    },
    "id": "XSOZq1RHGAsH"
   },
   "outputs": [],
   "source": [
    "#Make predictions on Test and train data\n",
    "y_pred_train = ridge.predict(X_train)\n",
    "y_pred_test = ridge.predict(X_test)"
   ]
  },
  {
   "cell_type": "code",
   "execution_count": 59,
   "metadata": {
    "colab": {
     "base_uri": "https://localhost:8080/"
    },
    "executionInfo": {
     "elapsed": 610,
     "status": "ok",
     "timestamp": 1716885404134,
     "user": {
      "displayName": "Neha",
      "userId": "05120978174581133934"
     },
     "user_tz": -330
    },
    "id": "FdHomU8XFnAw",
    "outputId": "3222db79-2ec8-443c-c328-dce38cbb3335"
   },
   "outputs": [
    {
     "name": "stdout",
     "output_type": "stream",
     "text": [
      "R2 score(Train):  0.8849428204675737\n",
      " R2 score(Test):  0.8737359813071722\n",
      "RSS(Train): 18.712009940224043\n",
      "RSS(Test): 8.6768607066154\n",
      "MSE(Train): 0.018435477773619747\n",
      "MSE(Test): 0.019901056666549084\n"
     ]
    }
   ],
   "source": [
    "# Lets calculate some metrics such as R2 score, RSS and RMSE\n",
    "metric = []\n",
    "r2_train_lr = r2_score(y_train, y_pred_train)\n",
    "print(\"R2 score(Train): \",r2_train_lr)\n",
    "metric.append(r2_train_lr)\n",
    "\n",
    "r2_test_lr = r2_score(y_test, y_pred_test)\n",
    "print(\" R2 score(Test): \",r2_test_lr)\n",
    "metric.append(r2_test_lr)\n",
    "\n",
    "rss1_lr = np.sum(np.square(y_train - y_pred_train))\n",
    "print(\"RSS(Train):\",rss1_lr)\n",
    "metric.append(rss1_lr)\n",
    "\n",
    "rss2_lr = np.sum(np.square(y_test - y_pred_test))\n",
    "print(\"RSS(Test):\",rss2_lr)\n",
    "metric.append(rss2_lr)\n",
    "\n",
    "mse_train_lr = mean_squared_error(y_train, y_pred_train)\n",
    "print(\"MSE(Train):\",mse_train_lr)\n",
    "metric.append(mse_train_lr**0.5)\n",
    "\n",
    "mse_test_lr = mean_squared_error(y_test, y_pred_test)\n",
    "print(\"MSE(Test):\",mse_test_lr)\n",
    "metric.append(mse_test_lr**0.5)\n"
   ]
  },
  {
   "cell_type": "markdown",
   "metadata": {
    "id": "OM2C4NaeVcWE"
   },
   "source": [
    "##### Plotting R2 Score against different values of alpha for train and test sets to find optimal alpha\n",
    " Ridge Regression"
   ]
  },
  {
   "cell_type": "code",
   "execution_count": 60,
   "metadata": {
    "colab": {
     "base_uri": "https://localhost:8080/",
     "height": 342
    },
    "executionInfo": {
     "elapsed": 799,
     "status": "ok",
     "timestamp": 1716885745051,
     "user": {
      "displayName": "Neha",
      "userId": "05120978174581133934"
     },
     "user_tz": -330
    },
    "id": "8fkW4FeDVcF5",
    "outputId": "a3e4710d-bef2-456c-d2ce-4cef1c5ccfa2"
   },
   "outputs": [
    {
     "data": {
      "text/html": [
       "<div>\n",
       "<style scoped>\n",
       "    .dataframe tbody tr th:only-of-type {\n",
       "        vertical-align: middle;\n",
       "    }\n",
       "\n",
       "    .dataframe tbody tr th {\n",
       "        vertical-align: top;\n",
       "    }\n",
       "\n",
       "    .dataframe thead th {\n",
       "        text-align: right;\n",
       "    }\n",
       "</style>\n",
       "<table border=\"1\" class=\"dataframe\">\n",
       "  <thead>\n",
       "    <tr style=\"text-align: right;\">\n",
       "      <th></th>\n",
       "      <th>mean_fit_time</th>\n",
       "      <th>std_fit_time</th>\n",
       "      <th>mean_score_time</th>\n",
       "      <th>std_score_time</th>\n",
       "      <th>param_alpha</th>\n",
       "      <th>params</th>\n",
       "      <th>split0_test_score</th>\n",
       "      <th>split1_test_score</th>\n",
       "      <th>split2_test_score</th>\n",
       "      <th>split3_test_score</th>\n",
       "      <th>...</th>\n",
       "      <th>mean_test_score</th>\n",
       "      <th>std_test_score</th>\n",
       "      <th>rank_test_score</th>\n",
       "      <th>split0_train_score</th>\n",
       "      <th>split1_train_score</th>\n",
       "      <th>split2_train_score</th>\n",
       "      <th>split3_train_score</th>\n",
       "      <th>split4_train_score</th>\n",
       "      <th>mean_train_score</th>\n",
       "      <th>std_train_score</th>\n",
       "    </tr>\n",
       "  </thead>\n",
       "  <tbody>\n",
       "    <tr>\n",
       "      <th>0</th>\n",
       "      <td>0.003312</td>\n",
       "      <td>0.001709</td>\n",
       "      <td>0.000695</td>\n",
       "      <td>0.000097</td>\n",
       "      <td>0.0001</td>\n",
       "      <td>{'alpha': 0.0001}</td>\n",
       "      <td>-0.117004</td>\n",
       "      <td>-0.098201</td>\n",
       "      <td>-0.100403</td>\n",
       "      <td>-0.099189</td>\n",
       "      <td>...</td>\n",
       "      <td>-0.103743</td>\n",
       "      <td>0.006906</td>\n",
       "      <td>27</td>\n",
       "      <td>-0.077635</td>\n",
       "      <td>-0.094813</td>\n",
       "      <td>-0.094466</td>\n",
       "      <td>-0.093791</td>\n",
       "      <td>-0.093104</td>\n",
       "      <td>-0.090762</td>\n",
       "      <td>0.006589</td>\n",
       "    </tr>\n",
       "    <tr>\n",
       "      <th>1</th>\n",
       "      <td>0.002603</td>\n",
       "      <td>0.000273</td>\n",
       "      <td>0.000680</td>\n",
       "      <td>0.000088</td>\n",
       "      <td>0.001</td>\n",
       "      <td>{'alpha': 0.001}</td>\n",
       "      <td>-0.117004</td>\n",
       "      <td>-0.098201</td>\n",
       "      <td>-0.100403</td>\n",
       "      <td>-0.099189</td>\n",
       "      <td>...</td>\n",
       "      <td>-0.103743</td>\n",
       "      <td>0.006906</td>\n",
       "      <td>26</td>\n",
       "      <td>-0.077635</td>\n",
       "      <td>-0.094813</td>\n",
       "      <td>-0.094466</td>\n",
       "      <td>-0.093791</td>\n",
       "      <td>-0.093104</td>\n",
       "      <td>-0.090762</td>\n",
       "      <td>0.006589</td>\n",
       "    </tr>\n",
       "    <tr>\n",
       "      <th>2</th>\n",
       "      <td>0.002563</td>\n",
       "      <td>0.000408</td>\n",
       "      <td>0.001131</td>\n",
       "      <td>0.000606</td>\n",
       "      <td>0.01</td>\n",
       "      <td>{'alpha': 0.01}</td>\n",
       "      <td>-0.117003</td>\n",
       "      <td>-0.098200</td>\n",
       "      <td>-0.100402</td>\n",
       "      <td>-0.099188</td>\n",
       "      <td>...</td>\n",
       "      <td>-0.103742</td>\n",
       "      <td>0.006906</td>\n",
       "      <td>25</td>\n",
       "      <td>-0.077635</td>\n",
       "      <td>-0.094813</td>\n",
       "      <td>-0.094465</td>\n",
       "      <td>-0.093791</td>\n",
       "      <td>-0.093103</td>\n",
       "      <td>-0.090761</td>\n",
       "      <td>0.006589</td>\n",
       "    </tr>\n",
       "    <tr>\n",
       "      <th>3</th>\n",
       "      <td>0.001733</td>\n",
       "      <td>0.000341</td>\n",
       "      <td>0.000521</td>\n",
       "      <td>0.000179</td>\n",
       "      <td>0.05</td>\n",
       "      <td>{'alpha': 0.05}</td>\n",
       "      <td>-0.117000</td>\n",
       "      <td>-0.098198</td>\n",
       "      <td>-0.100399</td>\n",
       "      <td>-0.099182</td>\n",
       "      <td>...</td>\n",
       "      <td>-0.103739</td>\n",
       "      <td>0.006907</td>\n",
       "      <td>24</td>\n",
       "      <td>-0.077635</td>\n",
       "      <td>-0.094811</td>\n",
       "      <td>-0.094464</td>\n",
       "      <td>-0.093790</td>\n",
       "      <td>-0.093101</td>\n",
       "      <td>-0.090760</td>\n",
       "      <td>0.006589</td>\n",
       "    </tr>\n",
       "    <tr>\n",
       "      <th>4</th>\n",
       "      <td>0.001553</td>\n",
       "      <td>0.000082</td>\n",
       "      <td>0.000459</td>\n",
       "      <td>0.000036</td>\n",
       "      <td>0.1</td>\n",
       "      <td>{'alpha': 0.1}</td>\n",
       "      <td>-0.116997</td>\n",
       "      <td>-0.098196</td>\n",
       "      <td>-0.100396</td>\n",
       "      <td>-0.099176</td>\n",
       "      <td>...</td>\n",
       "      <td>-0.103734</td>\n",
       "      <td>0.006907</td>\n",
       "      <td>23</td>\n",
       "      <td>-0.077635</td>\n",
       "      <td>-0.094809</td>\n",
       "      <td>-0.094462</td>\n",
       "      <td>-0.093789</td>\n",
       "      <td>-0.093099</td>\n",
       "      <td>-0.090759</td>\n",
       "      <td>0.006588</td>\n",
       "    </tr>\n",
       "  </tbody>\n",
       "</table>\n",
       "<p>5 rows × 21 columns</p>\n",
       "</div>"
      ],
      "text/plain": [
       "   mean_fit_time  std_fit_time  mean_score_time  std_score_time param_alpha  \\\n",
       "0       0.003312      0.001709         0.000695        0.000097      0.0001   \n",
       "1       0.002603      0.000273         0.000680        0.000088       0.001   \n",
       "2       0.002563      0.000408         0.001131        0.000606        0.01   \n",
       "3       0.001733      0.000341         0.000521        0.000179        0.05   \n",
       "4       0.001553      0.000082         0.000459        0.000036         0.1   \n",
       "\n",
       "              params  split0_test_score  split1_test_score  split2_test_score  \\\n",
       "0  {'alpha': 0.0001}          -0.117004          -0.098201          -0.100403   \n",
       "1   {'alpha': 0.001}          -0.117004          -0.098201          -0.100403   \n",
       "2    {'alpha': 0.01}          -0.117003          -0.098200          -0.100402   \n",
       "3    {'alpha': 0.05}          -0.117000          -0.098198          -0.100399   \n",
       "4     {'alpha': 0.1}          -0.116997          -0.098196          -0.100396   \n",
       "\n",
       "   split3_test_score  ...  mean_test_score  std_test_score  rank_test_score  \\\n",
       "0          -0.099189  ...        -0.103743        0.006906               27   \n",
       "1          -0.099189  ...        -0.103743        0.006906               26   \n",
       "2          -0.099188  ...        -0.103742        0.006906               25   \n",
       "3          -0.099182  ...        -0.103739        0.006907               24   \n",
       "4          -0.099176  ...        -0.103734        0.006907               23   \n",
       "\n",
       "   split0_train_score  split1_train_score  split2_train_score  \\\n",
       "0           -0.077635           -0.094813           -0.094466   \n",
       "1           -0.077635           -0.094813           -0.094466   \n",
       "2           -0.077635           -0.094813           -0.094465   \n",
       "3           -0.077635           -0.094811           -0.094464   \n",
       "4           -0.077635           -0.094809           -0.094462   \n",
       "\n",
       "   split3_train_score  split4_train_score  mean_train_score  std_train_score  \n",
       "0           -0.093791           -0.093104         -0.090762         0.006589  \n",
       "1           -0.093791           -0.093104         -0.090762         0.006589  \n",
       "2           -0.093791           -0.093103         -0.090761         0.006589  \n",
       "3           -0.093790           -0.093101         -0.090760         0.006589  \n",
       "4           -0.093789           -0.093099         -0.090759         0.006588  \n",
       "\n",
       "[5 rows x 21 columns]"
      ]
     },
     "execution_count": 60,
     "metadata": {},
     "output_type": "execute_result"
    }
   ],
   "source": [
    "## Create a dataframe of ridge cross validation results\n",
    "ridgeCV_results= pd.DataFrame(model_cv.cv_results_)\n",
    "ridgeCV_results.head()"
   ]
  },
  {
   "cell_type": "code",
   "execution_count": 61,
   "metadata": {
    "colab": {
     "base_uri": "https://localhost:8080/",
     "height": 454
    },
    "executionInfo": {
     "elapsed": 1369,
     "status": "ok",
     "timestamp": 1716885452072,
     "user": {
      "displayName": "Neha",
      "userId": "05120978174581133934"
     },
     "user_tz": -330
    },
    "id": "ckeP_vDPWNDg",
    "outputId": "bd67124a-619f-4005-bc9d-b51a5a855c9c"
   },
   "outputs": [
    {
     "data": {
      "image/png": "[encoded data removed]",
      "text/plain": [
       "<Figure size 432x288 with 1 Axes>"
      ]
     },
     "metadata": {},
     "output_type": "display_data"
    }
   ],
   "source": [
    "## Plotting R2 score vs alpha values\n",
    "plt.plot(ridgeCV_results['param_alpha'], ridgeCV_results['mean_train_score'], label='Train')\n",
    "plt.plot(ridgeCV_results['param_alpha'], ridgeCV_results['mean_test_score'], label='Test')\n",
    "plt.xlabel('alpha')\n",
    "plt.ylabel('R2_score')\n",
    "plt.xscale('log')\n",
    "plt.legend()\n",
    "plt.show()"
   ]
  },
  {
   "cell_type": "markdown",
   "metadata": {
    "id": "Ih2M_3JXWZg5"
   },
   "source": [
    "✅From the graph ,we can see that the optimal value of alpha is 100"
   ]
  },
  {
   "cell_type": "markdown",
   "metadata": {
    "id": "6pTY47O0FTZ7"
   },
   "source": [
    "#### Model 2 : Lasso Regression"
   ]
  },
  {
   "cell_type": "code",
   "execution_count": 62,
   "metadata": {
    "colab": {
     "base_uri": "https://localhost:8080/",
     "height": 136
    },
    "executionInfo": {
     "elapsed": 1966,
     "status": "ok",
     "timestamp": 1716885778183,
     "user": {
      "displayName": "Neha",
      "userId": "05120978174581133934"
     },
     "user_tz": -330
    },
    "id": "m6wIs6j2HBf8",
    "outputId": "ab49b5c4-bf1a-4376-bfb8-c88776943ac2"
   },
   "outputs": [
    {
     "name": "stdout",
     "output_type": "stream",
     "text": [
      "Fitting 5 folds for each of 28 candidates, totalling 140 fits\n"
     ]
    },
    {
     "data": {
      "text/plain": [
       "GridSearchCV(cv=5, estimator=Lasso(),\n",
       "             param_grid={'alpha': [0.0001, 0.001, 0.01, 0.05, 0.1, 0.2, 0.3,\n",
       "                                   0.4, 0.5, 0.6, 0.7, 0.8, 0.9, 1.0, 2.0, 3.0,\n",
       "                                   4.0, 5.0, 6.0, 7.0, 8.0, 9.0, 10.0, 20, 50,\n",
       "                                   100, 500, 1000]},\n",
       "             return_train_score=True, scoring='neg_mean_absolute_error',\n",
       "             verbose=1)"
      ]
     },
     "execution_count": 62,
     "metadata": {},
     "output_type": "execute_result"
    }
   ],
   "source": [
    "lasso = Lasso()\n",
    "\n",
    "# cross validation\n",
    "model_cv = GridSearchCV(estimator = lasso,\n",
    "                        param_grid = params,\n",
    "                        scoring= 'neg_mean_absolute_error',\n",
    "                        cv = folds,\n",
    "                        return_train_score=True,\n",
    "                        verbose = 1)\n",
    "\n",
    "model_cv.fit(X_train, y_train)"
   ]
  },
  {
   "cell_type": "code",
   "execution_count": 63,
   "metadata": {
    "colab": {
     "base_uri": "https://localhost:8080/"
    },
    "executionInfo": {
     "elapsed": 673,
     "status": "ok",
     "timestamp": 1716885781742,
     "user": {
      "displayName": "Neha",
      "userId": "05120978174581133934"
     },
     "user_tz": -330
    },
    "id": "X-ZybEBjHBcf",
    "outputId": "68a604e4-a96d-478a-a3f7-e13316c920a1"
   },
   "outputs": [
    {
     "name": "stdout",
     "output_type": "stream",
     "text": [
      "{'alpha': 0.001}\n"
     ]
    }
   ],
   "source": [
    "# Printing the best hyperparameter alpha\n",
    "print(model_cv.best_params_)"
   ]
  },
  {
   "cell_type": "code",
   "execution_count": 64,
   "metadata": {
    "colab": {
     "base_uri": "https://localhost:8080/",
     "height": 75
    },
    "executionInfo": {
     "elapsed": 404,
     "status": "ok",
     "timestamp": 1716885784872,
     "user": {
      "displayName": "Neha",
      "userId": "05120978174581133934"
     },
     "user_tz": -330
    },
    "id": "jU-FpKmXHBZP",
    "outputId": "5ae35e17-f9b0-458f-abf0-f056e3c28c82"
   },
   "outputs": [
    {
     "data": {
      "text/plain": [
       "Lasso(alpha=0.001)"
      ]
     },
     "execution_count": 64,
     "metadata": {},
     "output_type": "execute_result"
    }
   ],
   "source": [
    "#Fitting Lasso model for alpha = 0.001 and printing coefficients which have been penalised\n",
    "\n",
    "alpha =0.001\n",
    "\n",
    "lasso = Lasso(alpha=alpha)\n",
    "\n",
    "lasso.fit(X_train, y_train)"
   ]
  },
  {
   "cell_type": "code",
   "execution_count": 65,
   "metadata": {
    "colab": {
     "base_uri": "https://localhost:8080/"
    },
    "executionInfo": {
     "elapsed": 592,
     "status": "ok",
     "timestamp": 1716885787836,
     "user": {
      "displayName": "Neha",
      "userId": "05120978174581133934"
     },
     "user_tz": -330
    },
    "id": "TwUJFv7FHBRi",
    "outputId": "97a36689-544c-4ab1-91c4-13e62074f5a1"
   },
   "outputs": [
    {
     "data": {
      "text/plain": [
       "array([ 0.01387998, -0.01470187, -0.00924916,  0.01366352,  0.01199035,\n",
       "       -0.01228355,  0.01167443, -0.00084961, -0.00532409,  0.01496208,\n",
       "        0.00335018, -0.        , -0.02233697, -0.00969713, -0.01717661,\n",
       "        0.1042458 ,  0.03888277,  0.04735555,  0.0156934 ,  0.00781741,\n",
       "        0.00409933, -0.00550453,  0.01048981,  0.        ,  0.00263476,\n",
       "       -0.        ,  0.00457647,  0.00252672, -0.02252161,  0.00639802,\n",
       "       -0.00540309, -0.01686759, -0.        ,  0.        ,  0.00319146,\n",
       "        0.00085454,  0.00258267, -0.00615578, -0.01418486,  0.02022954,\n",
       "        0.00322181,  0.023395  ,  0.        ,  0.00141361,  0.08356599,\n",
       "        0.02779023,  0.00182529,  0.01213189,  0.00728215,  0.01631752,\n",
       "       -0.00797501, -0.02473815,  0.01274275,  0.01992594,  0.01786359,\n",
       "       -0.00148982, -0.01425668, -0.01388634, -0.00842205,  0.05880435,\n",
       "       -0.        , -0.00075619,  0.        ,  0.01560975,  0.01510906,\n",
       "       -0.00131435,  0.0109729 ,  0.00709768,  0.01673079, -0.01428397,\n",
       "       -0.01076377,  0.0122895 , -0.00713456,  0.00275538,  0.02804754])"
      ]
     },
     "execution_count": 65,
     "metadata": {},
     "output_type": "execute_result"
    }
   ],
   "source": [
    "lasso.coef_"
   ]
  },
  {
   "cell_type": "code",
   "execution_count": 66,
   "metadata": {
    "executionInfo": {
     "elapsed": 424,
     "status": "ok",
     "timestamp": 1716885798589,
     "user": {
      "displayName": "Neha",
      "userId": "05120978174581133934"
     },
     "user_tz": -330
    },
    "id": "JLA6HuuzInFF"
   },
   "outputs": [],
   "source": [
    "#Predict using Lasso\n",
    "y_pred_train = lasso.predict(X_train)\n",
    "y_pred_test = lasso.predict(X_test)"
   ]
  },
  {
   "cell_type": "code",
   "execution_count": 67,
   "metadata": {
    "colab": {
     "base_uri": "https://localhost:8080/"
    },
    "executionInfo": {
     "elapsed": 458,
     "status": "ok",
     "timestamp": 1716885802271,
     "user": {
      "displayName": "Neha",
      "userId": "05120978174581133934"
     },
     "user_tz": -330
    },
    "id": "FOhANttwHBNA",
    "outputId": "0f3070b0-a0a7-43a5-eed1-380326c6fa55"
   },
   "outputs": [
    {
     "name": "stdout",
     "output_type": "stream",
     "text": [
      "R2 score(Train):  0.8866674229429217\n",
      " R2 score(Test):  0.8690651547959187\n",
      "RSS(Train): 18.43153393001077\n",
      "RSS(Test): 8.99783980614421\n",
      "MSE(Train): 0.01815914672907465\n",
      "MSE(Test): 0.020637247261798646\n"
     ]
    }
   ],
   "source": [
    "# Lets calculate some metrics such as R2 score, RSS and RMSE\n",
    "metric2 = []\n",
    "r2_train_lr = r2_score(y_train, y_pred_train)\n",
    "print(\"R2 score(Train): \",r2_train_lr)\n",
    "metric2.append(r2_train_lr)\n",
    "\n",
    "r2_test_lr = r2_score(y_test, y_pred_test)\n",
    "print(\" R2 score(Test): \",r2_test_lr)\n",
    "metric2.append(r2_test_lr)\n",
    "\n",
    "rss1_lr = np.sum(np.square(y_train - y_pred_train))\n",
    "print(\"RSS(Train):\",rss1_lr)\n",
    "metric2.append(rss1_lr)\n",
    "\n",
    "rss2_lr = np.sum(np.square(y_test - y_pred_test))\n",
    "print(\"RSS(Test):\",rss2_lr)\n",
    "metric2.append(rss2_lr)\n",
    "\n",
    "mse_train_lr = mean_squared_error(y_train, y_pred_train)\n",
    "print(\"MSE(Train):\",mse_train_lr)\n",
    "metric2.append(mse_train_lr**0.5)\n",
    "\n",
    "mse_test_lr = mean_squared_error(y_test, y_pred_test)\n",
    "print(\"MSE(Test):\",mse_test_lr)\n",
    "metric2.append(mse_test_lr**0.5)\n"
   ]
  },
  {
   "cell_type": "markdown",
   "metadata": {
    "id": "mX4Ch30cW7di"
   },
   "source": [
    "##### Plotting R2 Score against different values of alpha for train and test sets to find optimal alpha\n",
    "#####  For Model 2 : Lasso Regression"
   ]
  },
  {
   "cell_type": "code",
   "execution_count": 68,
   "metadata": {
    "colab": {
     "base_uri": "https://localhost:8080/",
     "height": 342
    },
    "executionInfo": {
     "elapsed": 372,
     "status": "ok",
     "timestamp": 1716885826089,
     "user": {
      "displayName": "Neha",
      "userId": "05120978174581133934"
     },
     "user_tz": -330
    },
    "id": "22awQq-7W7UB",
    "outputId": "544dd983-9dc7-4f3c-8882-d70bfc57c90e"
   },
   "outputs": [
    {
     "data": {
      "text/html": [
       "<div>\n",
       "<style scoped>\n",
       "    .dataframe tbody tr th:only-of-type {\n",
       "        vertical-align: middle;\n",
       "    }\n",
       "\n",
       "    .dataframe tbody tr th {\n",
       "        vertical-align: top;\n",
       "    }\n",
       "\n",
       "    .dataframe thead th {\n",
       "        text-align: right;\n",
       "    }\n",
       "</style>\n",
       "<table border=\"1\" class=\"dataframe\">\n",
       "  <thead>\n",
       "    <tr style=\"text-align: right;\">\n",
       "      <th></th>\n",
       "      <th>mean_fit_time</th>\n",
       "      <th>std_fit_time</th>\n",
       "      <th>mean_score_time</th>\n",
       "      <th>std_score_time</th>\n",
       "      <th>param_alpha</th>\n",
       "      <th>params</th>\n",
       "      <th>split0_test_score</th>\n",
       "      <th>split1_test_score</th>\n",
       "      <th>split2_test_score</th>\n",
       "      <th>split3_test_score</th>\n",
       "      <th>...</th>\n",
       "      <th>mean_test_score</th>\n",
       "      <th>std_test_score</th>\n",
       "      <th>rank_test_score</th>\n",
       "      <th>split0_train_score</th>\n",
       "      <th>split1_train_score</th>\n",
       "      <th>split2_train_score</th>\n",
       "      <th>split3_train_score</th>\n",
       "      <th>split4_train_score</th>\n",
       "      <th>mean_train_score</th>\n",
       "      <th>std_train_score</th>\n",
       "    </tr>\n",
       "  </thead>\n",
       "  <tbody>\n",
       "    <tr>\n",
       "      <th>0</th>\n",
       "      <td>0.051735</td>\n",
       "      <td>0.003020</td>\n",
       "      <td>0.000803</td>\n",
       "      <td>0.000080</td>\n",
       "      <td>0.0001</td>\n",
       "      <td>{'alpha': 0.0001}</td>\n",
       "      <td>-0.116737</td>\n",
       "      <td>-0.097991</td>\n",
       "      <td>-0.100223</td>\n",
       "      <td>-0.098981</td>\n",
       "      <td>...</td>\n",
       "      <td>-0.103519</td>\n",
       "      <td>0.006881</td>\n",
       "      <td>3</td>\n",
       "      <td>-0.077593</td>\n",
       "      <td>-0.094705</td>\n",
       "      <td>-0.094324</td>\n",
       "      <td>-0.093712</td>\n",
       "      <td>-0.093003</td>\n",
       "      <td>-0.090667</td>\n",
       "      <td>0.006562</td>\n",
       "    </tr>\n",
       "    <tr>\n",
       "      <th>1</th>\n",
       "      <td>0.008402</td>\n",
       "      <td>0.001122</td>\n",
       "      <td>0.000599</td>\n",
       "      <td>0.000122</td>\n",
       "      <td>0.001</td>\n",
       "      <td>{'alpha': 0.001}</td>\n",
       "      <td>-0.115605</td>\n",
       "      <td>-0.096529</td>\n",
       "      <td>-0.099240</td>\n",
       "      <td>-0.098108</td>\n",
       "      <td>...</td>\n",
       "      <td>-0.102313</td>\n",
       "      <td>0.006889</td>\n",
       "      <td>1</td>\n",
       "      <td>-0.077592</td>\n",
       "      <td>-0.094070</td>\n",
       "      <td>-0.093626</td>\n",
       "      <td>-0.093355</td>\n",
       "      <td>-0.092766</td>\n",
       "      <td>-0.090282</td>\n",
       "      <td>0.006359</td>\n",
       "    </tr>\n",
       "    <tr>\n",
       "      <th>2</th>\n",
       "      <td>0.003068</td>\n",
       "      <td>0.000361</td>\n",
       "      <td>0.000527</td>\n",
       "      <td>0.000057</td>\n",
       "      <td>0.01</td>\n",
       "      <td>{'alpha': 0.01}</td>\n",
       "      <td>-0.110261</td>\n",
       "      <td>-0.095775</td>\n",
       "      <td>-0.099752</td>\n",
       "      <td>-0.100430</td>\n",
       "      <td>...</td>\n",
       "      <td>-0.102411</td>\n",
       "      <td>0.005067</td>\n",
       "      <td>2</td>\n",
       "      <td>-0.083601</td>\n",
       "      <td>-0.100506</td>\n",
       "      <td>-0.098463</td>\n",
       "      <td>-0.097496</td>\n",
       "      <td>-0.098490</td>\n",
       "      <td>-0.095711</td>\n",
       "      <td>0.006134</td>\n",
       "    </tr>\n",
       "    <tr>\n",
       "      <th>3</th>\n",
       "      <td>0.002242</td>\n",
       "      <td>0.000325</td>\n",
       "      <td>0.000661</td>\n",
       "      <td>0.000149</td>\n",
       "      <td>0.05</td>\n",
       "      <td>{'alpha': 0.05}</td>\n",
       "      <td>-0.140094</td>\n",
       "      <td>-0.129709</td>\n",
       "      <td>-0.123436</td>\n",
       "      <td>-0.133185</td>\n",
       "      <td>...</td>\n",
       "      <td>-0.131239</td>\n",
       "      <td>0.005433</td>\n",
       "      <td>4</td>\n",
       "      <td>-0.114991</td>\n",
       "      <td>-0.132483</td>\n",
       "      <td>-0.130783</td>\n",
       "      <td>-0.131597</td>\n",
       "      <td>-0.129418</td>\n",
       "      <td>-0.127854</td>\n",
       "      <td>0.006511</td>\n",
       "    </tr>\n",
       "    <tr>\n",
       "      <th>4</th>\n",
       "      <td>0.002143</td>\n",
       "      <td>0.000299</td>\n",
       "      <td>0.000570</td>\n",
       "      <td>0.000029</td>\n",
       "      <td>0.1</td>\n",
       "      <td>{'alpha': 0.1}</td>\n",
       "      <td>-0.179738</td>\n",
       "      <td>-0.160862</td>\n",
       "      <td>-0.157341</td>\n",
       "      <td>-0.162524</td>\n",
       "      <td>...</td>\n",
       "      <td>-0.163433</td>\n",
       "      <td>0.008435</td>\n",
       "      <td>5</td>\n",
       "      <td>-0.151835</td>\n",
       "      <td>-0.164791</td>\n",
       "      <td>-0.164709</td>\n",
       "      <td>-0.161886</td>\n",
       "      <td>-0.162872</td>\n",
       "      <td>-0.161219</td>\n",
       "      <td>0.004820</td>\n",
       "    </tr>\n",
       "  </tbody>\n",
       "</table>\n",
       "<p>5 rows × 21 columns</p>\n",
       "</div>"
      ],
      "text/plain": [
       "   mean_fit_time  std_fit_time  mean_score_time  std_score_time param_alpha  \\\n",
       "0       0.051735      0.003020         0.000803        0.000080      0.0001   \n",
       "1       0.008402      0.001122         0.000599        0.000122       0.001   \n",
       "2       0.003068      0.000361         0.000527        0.000057        0.01   \n",
       "3       0.002242      0.000325         0.000661        0.000149        0.05   \n",
       "4       0.002143      0.000299         0.000570        0.000029         0.1   \n",
       "\n",
       "              params  split0_test_score  split1_test_score  split2_test_score  \\\n",
       "0  {'alpha': 0.0001}          -0.116737          -0.097991          -0.100223   \n",
       "1   {'alpha': 0.001}          -0.115605          -0.096529          -0.099240   \n",
       "2    {'alpha': 0.01}          -0.110261          -0.095775          -0.099752   \n",
       "3    {'alpha': 0.05}          -0.140094          -0.129709          -0.123436   \n",
       "4     {'alpha': 0.1}          -0.179738          -0.160862          -0.157341   \n",
       "\n",
       "   split3_test_score  ...  mean_test_score  std_test_score  rank_test_score  \\\n",
       "0          -0.098981  ...        -0.103519        0.006881                3   \n",
       "1          -0.098108  ...        -0.102313        0.006889                1   \n",
       "2          -0.100430  ...        -0.102411        0.005067                2   \n",
       "3          -0.133185  ...        -0.131239        0.005433                4   \n",
       "4          -0.162524  ...        -0.163433        0.008435                5   \n",
       "\n",
       "   split0_train_score  split1_train_score  split2_train_score  \\\n",
       "0           -0.077593           -0.094705           -0.094324   \n",
       "1           -0.077592           -0.094070           -0.093626   \n",
       "2           -0.083601           -0.100506           -0.098463   \n",
       "3           -0.114991           -0.132483           -0.130783   \n",
       "4           -0.151835           -0.164791           -0.164709   \n",
       "\n",
       "   split3_train_score  split4_train_score  mean_train_score  std_train_score  \n",
       "0           -0.093712           -0.093003         -0.090667         0.006562  \n",
       "1           -0.093355           -0.092766         -0.090282         0.006359  \n",
       "2           -0.097496           -0.098490         -0.095711         0.006134  \n",
       "3           -0.131597           -0.129418         -0.127854         0.006511  \n",
       "4           -0.161886           -0.162872         -0.161219         0.004820  \n",
       "\n",
       "[5 rows x 21 columns]"
      ]
     },
     "execution_count": 68,
     "metadata": {},
     "output_type": "execute_result"
    }
   ],
   "source": [
    "lassoCV_results= pd.DataFrame(model_cv.cv_results_)\n",
    "lassoCV_results.head()"
   ]
  },
  {
   "cell_type": "code",
   "execution_count": 69,
   "metadata": {
    "colab": {
     "base_uri": "https://localhost:8080/",
     "height": 454
    },
    "executionInfo": {
     "elapsed": 1474,
     "status": "ok",
     "timestamp": 1716885863095,
     "user": {
      "displayName": "Neha",
      "userId": "05120978174581133934"
     },
     "user_tz": -330
    },
    "id": "1n6-cCjJW7J-",
    "outputId": "337aeabd-6ee1-49ec-8c5d-75eb349701dd"
   },
   "outputs": [
    {
     "data": {
      "image/png": "[encoded data removed]",
      "text/plain": [
       "<Figure size 432x288 with 1 Axes>"
      ]
     },
     "metadata": {},
     "output_type": "display_data"
    }
   ],
   "source": [
    "## Plotting R2 score vs alpha values\n",
    "plt.plot(lassoCV_results['param_alpha'], lassoCV_results['mean_train_score'], label='Train')\n",
    "plt.plot(lassoCV_results['param_alpha'], lassoCV_results['mean_test_score'], label='Test')\n",
    "plt.xlabel('alpha')\n",
    "plt.ylabel('R2_score')\n",
    "plt.xscale('log')\n",
    "plt.legend()\n",
    "plt.show()"
   ]
  },
  {
   "cell_type": "markdown",
   "metadata": {
    "id": "90vP94VRI3Sy"
   },
   "source": [
    "#### Comparison of the 2 models"
   ]
  },
  {
   "cell_type": "code",
   "execution_count": 70,
   "metadata": {
    "colab": {
     "base_uri": "https://localhost:8080/",
     "height": 238
    },
    "executionInfo": {
     "elapsed": 703,
     "status": "ok",
     "timestamp": 1716885959044,
     "user": {
      "displayName": "Neha",
      "userId": "05120978174581133934"
     },
     "user_tz": -330
    },
    "id": "GYy3nYlrHsu8",
    "outputId": "969ba08d-73c4-442c-c0bb-fb064c9fcc2a"
   },
   "outputs": [
    {
     "data": {
      "text/html": [
       "<div>\n",
       "<style scoped>\n",
       "    .dataframe tbody tr th:only-of-type {\n",
       "        vertical-align: middle;\n",
       "    }\n",
       "\n",
       "    .dataframe tbody tr th {\n",
       "        vertical-align: top;\n",
       "    }\n",
       "\n",
       "    .dataframe thead th {\n",
       "        text-align: right;\n",
       "    }\n",
       "</style>\n",
       "<table border=\"1\" class=\"dataframe\">\n",
       "  <thead>\n",
       "    <tr style=\"text-align: right;\">\n",
       "      <th></th>\n",
       "      <th>Metric</th>\n",
       "      <th>Ridge Regression</th>\n",
       "      <th>Lasso Regression</th>\n",
       "    </tr>\n",
       "  </thead>\n",
       "  <tbody>\n",
       "    <tr>\n",
       "      <th>0</th>\n",
       "      <td>R2 Score (Train)</td>\n",
       "      <td>0.88</td>\n",
       "      <td>0.89</td>\n",
       "    </tr>\n",
       "    <tr>\n",
       "      <th>1</th>\n",
       "      <td>R2 Score (Test)</td>\n",
       "      <td>0.87</td>\n",
       "      <td>0.87</td>\n",
       "    </tr>\n",
       "    <tr>\n",
       "      <th>2</th>\n",
       "      <td>RSS (Train)</td>\n",
       "      <td>18.71</td>\n",
       "      <td>18.43</td>\n",
       "    </tr>\n",
       "    <tr>\n",
       "      <th>3</th>\n",
       "      <td>RSS (Test)</td>\n",
       "      <td>8.68</td>\n",
       "      <td>9.00</td>\n",
       "    </tr>\n",
       "    <tr>\n",
       "      <th>4</th>\n",
       "      <td>MSE (Train)</td>\n",
       "      <td>0.14</td>\n",
       "      <td>0.13</td>\n",
       "    </tr>\n",
       "    <tr>\n",
       "      <th>5</th>\n",
       "      <td>MSE (Test)</td>\n",
       "      <td>0.14</td>\n",
       "      <td>0.14</td>\n",
       "    </tr>\n",
       "  </tbody>\n",
       "</table>\n",
       "</div>"
      ],
      "text/plain": [
       "             Metric  Ridge Regression  Lasso Regression\n",
       "0  R2 Score (Train)              0.88              0.89\n",
       "1   R2 Score (Test)              0.87              0.87\n",
       "2       RSS (Train)             18.71             18.43\n",
       "3        RSS (Test)              8.68              9.00\n",
       "4       MSE (Train)              0.14              0.13\n",
       "5        MSE (Test)              0.14              0.14"
      ]
     },
     "execution_count": 70,
     "metadata": {},
     "output_type": "execute_result"
    }
   ],
   "source": [
    "# Creating a table which contain all the metrics\n",
    "\n",
    "pd.options.display.float_format = \"{:,.2f}\".format\n",
    "\n",
    "lr_table = {'Metric': ['R2 Score (Train)','R2 Score (Test)','RSS (Train)','RSS (Test)',\n",
    "                       'MSE (Train)','MSE (Test)'],\n",
    "        'Ridge Regression': metric\n",
    "        }\n",
    "\n",
    "rg_metric = pd.DataFrame(lr_table ,columns = ['Metric', 'Ridge Regression'] )\n",
    "\n",
    "#rg_metric = pd.Series(metric, name = 'Ridge Regression')\n",
    "ls_metric = pd.Series(metric2, name = 'Lasso Regression')\n",
    "\n",
    "final_metric = pd.concat([rg_metric, ls_metric], axis = 1)\n",
    "\n",
    "\n",
    "final_metric"
   ]
  },
  {
   "cell_type": "markdown",
   "metadata": {
    "id": "UC9dRjDrbzA_"
   },
   "source": [
    "#### 📌 Optimal value of lambda\n",
    "1. Ridge Regression = 100\n",
    "2. Lasso Regression = 0.001\n",
    "\n"
   ]
  },
  {
   "cell_type": "markdown",
   "metadata": {
    "id": "H_hEadrxI82k"
   },
   "source": [
    "### Step 5: Observing the changes on coefficients after regularization"
   ]
  },
  {
   "cell_type": "code",
   "execution_count": 71,
   "metadata": {
    "executionInfo": {
     "elapsed": 459,
     "status": "ok",
     "timestamp": 1716886045873,
     "user": {
      "displayName": "Neha",
      "userId": "05120978174581133934"
     },
     "user_tz": -330
    },
    "id": "-rIaz-B1HssB"
   },
   "outputs": [],
   "source": [
    "##create empty datafame with all the independent variables as indices\n",
    "betas = pd.DataFrame(index=all_cols)\n",
    "betas.rows = all_cols"
   ]
  },
  {
   "cell_type": "code",
   "execution_count": 72,
   "metadata": {
    "colab": {
     "base_uri": "https://localhost:8080/"
    },
    "executionInfo": {
     "elapsed": 620,
     "status": "ok",
     "timestamp": 1716886069958,
     "user": {
      "displayName": "Neha",
      "userId": "05120978174581133934"
     },
     "user_tz": -330
    },
    "id": "EBf9d_PVYj8n",
    "outputId": "e66f6048-e985-4589-eea3-b122e3fc6f52"
   },
   "outputs": [
    {
     "data": {
      "text/plain": [
       "75"
      ]
     },
     "execution_count": 72,
     "metadata": {},
     "output_type": "execute_result"
    }
   ],
   "source": [
    "len(betas)"
   ]
  },
  {
   "cell_type": "code",
   "execution_count": 73,
   "metadata": {
    "executionInfo": {
     "elapsed": 402,
     "status": "ok",
     "timestamp": 1716886107537,
     "user": {
      "displayName": "Neha",
      "userId": "05120978174581133934"
     },
     "user_tz": -330
    },
    "id": "5HnSG2HnJDjO"
   },
   "outputs": [],
   "source": [
    "#Filling the values of betas, one column for ridge coefficients and one for lasso coefficients\n",
    "betas['Ridge'] = ridge.coef_\n",
    "betas['Lasso'] = lasso.coef_"
   ]
  },
  {
   "cell_type": "code",
   "execution_count": 74,
   "metadata": {
    "colab": {
     "base_uri": "https://localhost:8080/",
     "height": 687
    },
    "executionInfo": {
     "elapsed": 560,
     "status": "ok",
     "timestamp": 1716886337440,
     "user": {
      "displayName": "Neha",
      "userId": "05120978174581133934"
     },
     "user_tz": -330
    },
    "id": "estVnkIwJFUe",
    "outputId": "5c2da3e5-5c33-40cf-b7ab-79d9962c5c17"
   },
   "outputs": [
    {
     "data": {
      "text/html": [
       "<div>\n",
       "<style scoped>\n",
       "    .dataframe tbody tr th:only-of-type {\n",
       "        vertical-align: middle;\n",
       "    }\n",
       "\n",
       "    .dataframe tbody tr th {\n",
       "        vertical-align: top;\n",
       "    }\n",
       "\n",
       "    .dataframe thead th {\n",
       "        text-align: right;\n",
       "    }\n",
       "</style>\n",
       "<table border=\"1\" class=\"dataframe\">\n",
       "  <thead>\n",
       "    <tr style=\"text-align: right;\">\n",
       "      <th></th>\n",
       "      <th>Ridge</th>\n",
       "      <th>Lasso</th>\n",
       "    </tr>\n",
       "  </thead>\n",
       "  <tbody>\n",
       "    <tr>\n",
       "      <th>MSSubClass</th>\n",
       "      <td>0.01</td>\n",
       "      <td>0.01</td>\n",
       "    </tr>\n",
       "    <tr>\n",
       "      <th>MSZoning</th>\n",
       "      <td>-0.01</td>\n",
       "      <td>-0.01</td>\n",
       "    </tr>\n",
       "    <tr>\n",
       "      <th>LotFrontage</th>\n",
       "      <td>-0.01</td>\n",
       "      <td>-0.01</td>\n",
       "    </tr>\n",
       "    <tr>\n",
       "      <th>LotArea</th>\n",
       "      <td>0.01</td>\n",
       "      <td>0.01</td>\n",
       "    </tr>\n",
       "    <tr>\n",
       "      <th>Street</th>\n",
       "      <td>0.01</td>\n",
       "      <td>0.01</td>\n",
       "    </tr>\n",
       "    <tr>\n",
       "      <th>...</th>\n",
       "      <td>...</td>\n",
       "      <td>...</td>\n",
       "    </tr>\n",
       "    <tr>\n",
       "      <th>MiscVal</th>\n",
       "      <td>-0.01</td>\n",
       "      <td>-0.01</td>\n",
       "    </tr>\n",
       "    <tr>\n",
       "      <th>MoSold</th>\n",
       "      <td>0.01</td>\n",
       "      <td>0.01</td>\n",
       "    </tr>\n",
       "    <tr>\n",
       "      <th>YrSold</th>\n",
       "      <td>-0.01</td>\n",
       "      <td>-0.01</td>\n",
       "    </tr>\n",
       "    <tr>\n",
       "      <th>SaleType</th>\n",
       "      <td>0.00</td>\n",
       "      <td>0.00</td>\n",
       "    </tr>\n",
       "    <tr>\n",
       "      <th>SaleCondition</th>\n",
       "      <td>0.03</td>\n",
       "      <td>0.03</td>\n",
       "    </tr>\n",
       "  </tbody>\n",
       "</table>\n",
       "<p>75 rows × 2 columns</p>\n",
       "</div>"
      ],
      "text/plain": [
       "               Ridge  Lasso\n",
       "MSSubClass      0.01   0.01\n",
       "MSZoning       -0.01  -0.01\n",
       "LotFrontage    -0.01  -0.01\n",
       "LotArea         0.01   0.01\n",
       "Street          0.01   0.01\n",
       "...              ...    ...\n",
       "MiscVal        -0.01  -0.01\n",
       "MoSold          0.01   0.01\n",
       "YrSold         -0.01  -0.01\n",
       "SaleType        0.00   0.00\n",
       "SaleCondition   0.03   0.03\n",
       "\n",
       "[75 rows x 2 columns]"
      ]
     },
     "execution_count": 74,
     "metadata": {},
     "output_type": "execute_result"
    }
   ],
   "source": [
    "#all features and the coefficients\n",
    "betas"
   ]
  },
  {
   "cell_type": "code",
   "execution_count": 75,
   "metadata": {
    "colab": {
     "base_uri": "https://localhost:8080/",
     "height": 269
    },
    "executionInfo": {
     "elapsed": 374,
     "status": "ok",
     "timestamp": 1716886340217,
     "user": {
      "displayName": "Neha",
      "userId": "05120978174581133934"
     },
     "user_tz": -330
    },
    "id": "uMgLAq1KJIA9",
    "outputId": "9489cf9b-fe75-45f9-ea98-bf8759a7db02"
   },
   "outputs": [
    {
     "data": {
      "text/html": [
       "<div>\n",
       "<style scoped>\n",
       "    .dataframe tbody tr th:only-of-type {\n",
       "        vertical-align: middle;\n",
       "    }\n",
       "\n",
       "    .dataframe tbody tr th {\n",
       "        vertical-align: top;\n",
       "    }\n",
       "\n",
       "    .dataframe thead th {\n",
       "        text-align: right;\n",
       "    }\n",
       "</style>\n",
       "<table border=\"1\" class=\"dataframe\">\n",
       "  <thead>\n",
       "    <tr style=\"text-align: right;\">\n",
       "      <th></th>\n",
       "      <th>Ridge</th>\n",
       "      <th>Lasso</th>\n",
       "    </tr>\n",
       "  </thead>\n",
       "  <tbody>\n",
       "    <tr>\n",
       "      <th>Condition1</th>\n",
       "      <td>0.00</td>\n",
       "      <td>-0.00</td>\n",
       "    </tr>\n",
       "    <tr>\n",
       "      <th>MasVnrType</th>\n",
       "      <td>0.00</td>\n",
       "      <td>0.00</td>\n",
       "    </tr>\n",
       "    <tr>\n",
       "      <th>ExterQual</th>\n",
       "      <td>-0.01</td>\n",
       "      <td>-0.00</td>\n",
       "    </tr>\n",
       "    <tr>\n",
       "      <th>BsmtFinSF1</th>\n",
       "      <td>0.00</td>\n",
       "      <td>-0.00</td>\n",
       "    </tr>\n",
       "    <tr>\n",
       "      <th>BsmtFinType2</th>\n",
       "      <td>0.00</td>\n",
       "      <td>0.00</td>\n",
       "    </tr>\n",
       "    <tr>\n",
       "      <th>2ndFlrSF</th>\n",
       "      <td>0.02</td>\n",
       "      <td>0.00</td>\n",
       "    </tr>\n",
       "    <tr>\n",
       "      <th>GarageArea</th>\n",
       "      <td>0.01</td>\n",
       "      <td>-0.00</td>\n",
       "    </tr>\n",
       "    <tr>\n",
       "      <th>GarageCond</th>\n",
       "      <td>0.00</td>\n",
       "      <td>0.00</td>\n",
       "    </tr>\n",
       "  </tbody>\n",
       "</table>\n",
       "</div>"
      ],
      "text/plain": [
       "              Ridge  Lasso\n",
       "Condition1     0.00  -0.00\n",
       "MasVnrType     0.00   0.00\n",
       "ExterQual     -0.01  -0.00\n",
       "BsmtFinSF1     0.00  -0.00\n",
       "BsmtFinType2   0.00   0.00\n",
       "2ndFlrSF       0.02   0.00\n",
       "GarageArea     0.01  -0.00\n",
       "GarageCond     0.00   0.00"
      ]
     },
     "execution_count": 75,
     "metadata": {},
     "output_type": "execute_result"
    }
   ],
   "source": [
    "## View the features removed by Lasso\n",
    "betas[betas['Lasso']==0]"
   ]
  },
  {
   "cell_type": "markdown",
   "metadata": {
    "id": "znrnZdYiZ09t"
   },
   "source": [
    "### Step 6 : Business Inferences on the Models"
   ]
  },
  {
   "cell_type": "code",
   "execution_count": 76,
   "metadata": {
    "colab": {
     "base_uri": "https://localhost:8080/",
     "height": 238
    },
    "executionInfo": {
     "elapsed": 444,
     "status": "ok",
     "timestamp": 1716887934696,
     "user": {
      "displayName": "Neha",
      "userId": "05120978174581133934"
     },
     "user_tz": -330
    },
    "id": "ry45qbbKfoXi",
    "outputId": "cda3bdab-d74f-4d90-8b41-b51697d62591"
   },
   "outputs": [
    {
     "data": {
      "text/html": [
       "<div>\n",
       "<style scoped>\n",
       "    .dataframe tbody tr th:only-of-type {\n",
       "        vertical-align: middle;\n",
       "    }\n",
       "\n",
       "    .dataframe tbody tr th {\n",
       "        vertical-align: top;\n",
       "    }\n",
       "\n",
       "    .dataframe thead th {\n",
       "        text-align: right;\n",
       "    }\n",
       "</style>\n",
       "<table border=\"1\" class=\"dataframe\">\n",
       "  <thead>\n",
       "    <tr style=\"text-align: right;\">\n",
       "      <th></th>\n",
       "      <th>Metric</th>\n",
       "      <th>Ridge Regression</th>\n",
       "      <th>Lasso Regression</th>\n",
       "    </tr>\n",
       "  </thead>\n",
       "  <tbody>\n",
       "    <tr>\n",
       "      <th>0</th>\n",
       "      <td>R2 Score (Train)</td>\n",
       "      <td>0.88</td>\n",
       "      <td>0.89</td>\n",
       "    </tr>\n",
       "    <tr>\n",
       "      <th>1</th>\n",
       "      <td>R2 Score (Test)</td>\n",
       "      <td>0.87</td>\n",
       "      <td>0.87</td>\n",
       "    </tr>\n",
       "    <tr>\n",
       "      <th>2</th>\n",
       "      <td>RSS (Train)</td>\n",
       "      <td>18.71</td>\n",
       "      <td>18.43</td>\n",
       "    </tr>\n",
       "    <tr>\n",
       "      <th>3</th>\n",
       "      <td>RSS (Test)</td>\n",
       "      <td>8.68</td>\n",
       "      <td>9.00</td>\n",
       "    </tr>\n",
       "    <tr>\n",
       "      <th>4</th>\n",
       "      <td>MSE (Train)</td>\n",
       "      <td>0.14</td>\n",
       "      <td>0.13</td>\n",
       "    </tr>\n",
       "    <tr>\n",
       "      <th>5</th>\n",
       "      <td>MSE (Test)</td>\n",
       "      <td>0.14</td>\n",
       "      <td>0.14</td>\n",
       "    </tr>\n",
       "  </tbody>\n",
       "</table>\n",
       "</div>"
      ],
      "text/plain": [
       "             Metric  Ridge Regression  Lasso Regression\n",
       "0  R2 Score (Train)              0.88              0.89\n",
       "1   R2 Score (Test)              0.87              0.87\n",
       "2       RSS (Train)             18.71             18.43\n",
       "3        RSS (Test)              8.68              9.00\n",
       "4       MSE (Train)              0.14              0.13\n",
       "5        MSE (Test)              0.14              0.14"
      ]
     },
     "execution_count": 76,
     "metadata": {},
     "output_type": "execute_result"
    }
   ],
   "source": [
    "final_metric"
   ]
  },
  {
   "cell_type": "markdown",
   "metadata": {
    "id": "OqJWnRyhZ8Vv"
   },
   "source": [
    "Identifying most significant features in predicting the value of a house, both according to Ridge model and Lasso model"
   ]
  },
  {
   "cell_type": "code",
   "execution_count": 77,
   "metadata": {
    "colab": {
     "base_uri": "https://localhost:8080/"
    },
    "executionInfo": {
     "elapsed": 518,
     "status": "ok",
     "timestamp": 1716886454052,
     "user": {
      "displayName": "Neha",
      "userId": "05120978174581133934"
     },
     "user_tz": -330
    },
    "id": "GP74JJF0ZQdj",
    "outputId": "c268d392-cb83-4a69-a5f5-8715463b64db"
   },
   "outputs": [
    {
     "data": {
      "text/plain": [
       "OverallQual     0.08\n",
       "GarageCars      0.05\n",
       "GrLivArea       0.04\n",
       "1stFlrSF        0.03\n",
       "OverallCond     0.03\n",
       "YearBuilt       0.03\n",
       "SaleCondition   0.03\n",
       "BsmtFullBath    0.03\n",
       "Fireplaces      0.02\n",
       "CentralAir      0.02\n",
       "Name: Ridge, dtype: float64"
      ]
     },
     "execution_count": 77,
     "metadata": {},
     "output_type": "execute_result"
    }
   ],
   "source": [
    "## View the top 10 coefficients of Ridge regression\n",
    "betas['Ridge'].sort_values(ascending=False)[:10]"
   ]
  },
  {
   "cell_type": "code",
   "execution_count": 78,
   "metadata": {
    "colab": {
     "base_uri": "https://localhost:8080/"
    },
    "executionInfo": {
     "elapsed": 365,
     "status": "ok",
     "timestamp": 1716886466162,
     "user": {
      "displayName": "Neha",
      "userId": "05120978174581133934"
     },
     "user_tz": -330
    },
    "id": "UQbU_AOWaDiy",
    "outputId": "6c1b9c24-ed21-44b9-8e16-35678e29ae7e"
   },
   "outputs": [
    {
     "data": {
      "text/plain": [
       "OverallQual     1.09\n",
       "GarageCars      1.05\n",
       "GrLivArea       1.04\n",
       "1stFlrSF        1.04\n",
       "OverallCond     1.03\n",
       "YearBuilt       1.03\n",
       "SaleCondition   1.03\n",
       "BsmtFullBath    1.03\n",
       "Fireplaces      1.02\n",
       "CentralAir      1.02\n",
       "Name: Ridge, dtype: float64"
      ]
     },
     "execution_count": 78,
     "metadata": {},
     "output_type": "execute_result"
    }
   ],
   "source": [
    "## To interpret the ridge coefficients in terms of target, we have to take inverse log\n",
    "ridge_coeffs = np.exp(betas['Ridge'])\n",
    "ridge_coeffs.sort_values(ascending=False)[:10]"
   ]
  },
  {
   "cell_type": "code",
   "execution_count": 79,
   "metadata": {
    "colab": {
     "base_uri": "https://localhost:8080/"
    },
    "executionInfo": {
     "elapsed": 549,
     "status": "ok",
     "timestamp": 1716886533611,
     "user": {
      "displayName": "Neha",
      "userId": "05120978174581133934"
     },
     "user_tz": -330
    },
    "id": "kBbRCF4raGoh",
    "outputId": "eb58418f-261b-42e3-efd3-cbdf6d2025ca"
   },
   "outputs": [
    {
     "data": {
      "text/plain": [
       "OverallQual     0.10\n",
       "GrLivArea       0.08\n",
       "GarageCars      0.06\n",
       "YearBuilt       0.05\n",
       "OverallCond     0.04\n",
       "SaleCondition   0.03\n",
       "BsmtFullBath    0.03\n",
       "1stFlrSF        0.02\n",
       "CentralAir      0.02\n",
       "Functional      0.02\n",
       "Name: Lasso, dtype: float64"
      ]
     },
     "execution_count": 79,
     "metadata": {},
     "output_type": "execute_result"
    }
   ],
   "source": [
    "## View the top 10 coefficients of Lasso\n",
    "betas['Lasso'].sort_values(ascending=False)[:10]"
   ]
  },
  {
   "cell_type": "code",
   "execution_count": 80,
   "metadata": {
    "colab": {
     "base_uri": "https://localhost:8080/"
    },
    "executionInfo": {
     "elapsed": 348,
     "status": "ok",
     "timestamp": 1716886551431,
     "user": {
      "displayName": "Neha",
      "userId": "05120978174581133934"
     },
     "user_tz": -330
    },
    "id": "opQ-JdDBaXFs",
    "outputId": "eb0d2baa-7c95-44f5-947f-c58f8991f376"
   },
   "outputs": [
    {
     "data": {
      "text/plain": [
       "OverallQual     1.11\n",
       "GrLivArea       1.09\n",
       "GarageCars      1.06\n",
       "YearBuilt       1.05\n",
       "OverallCond     1.04\n",
       "SaleCondition   1.03\n",
       "BsmtFullBath    1.03\n",
       "1stFlrSF        1.02\n",
       "CentralAir      1.02\n",
       "Functional      1.02\n",
       "Name: Lasso, dtype: float64"
      ]
     },
     "execution_count": 80,
     "metadata": {},
     "output_type": "execute_result"
    }
   ],
   "source": [
    "## To interpret the lasso coefficients in terms of target, we have to take inverse log\n",
    "lasso_coeffs = np.exp(betas['Lasso'])\n",
    "lasso_coeffs.sort_values(ascending=False)[:10]"
   ]
  },
  {
   "cell_type": "markdown",
   "metadata": {
    "id": "eu6H7F1nagWj"
   },
   "source": [
    "\n",
    "## 📌 The variables significant in predicting the price of a house are: -\n",
    "\n",
    "1. OverallQual\n",
    "2. GrLivArea\n",
    "3. GarageCars\n",
    "4. YearBuilt\n",
    "5. OverallCond\n",
    "6. SaleCondition\n",
    "7. BsmtFullBath\n",
    "8. 1stFlrSF\n",
    "9. CentralAir\n",
    "10. Fireplaces\n",
    "11. Functional\n"
   ]
  },
  {
   "cell_type": "markdown",
   "metadata": {
    "id": "JZKI2pO6cLpC"
   },
   "source": [
    "## 📌 How well those variables describe the price of a house?\n",
    "\n",
    "Some of the top factors are :\n",
    "\n",
    "▶ OverallQual = If the overall material and finish of the house is high, the price of house will increase by 1.09 to 1.11 times\n",
    "\n",
    "▶ GrLivArea = an increase of 1 square foot of house area above ground, the price will increase by 1.04 to 1.09 times\n",
    "\n",
    "▶ GarageCars = With an increasing  Garage size , the price can increase by\n",
    "1.05-1.06 times\n",
    "\n",
    "▶ YearBuilt = Newer homes can fetch 1.03 - 1.05 times the price\n",
    "\n",
    "▶  OverallCond = If the overall condition of the house is excellent, the price of the house can be 1.05 times higher"
   ]
  },
  {
   "cell_type": "markdown",
   "metadata": {
    "id": "13ldK9eRby38"
   },
   "source": [
    "## **Part 2: Solving Subjective questions**"
   ]
  },
  {
   "cell_type": "markdown",
   "metadata": {
    "id": "euwoyPLjbyti"
   },
   "source": [
    "#### **Question 1**\n",
    "\n",
    "What is the optimal value of alpha for ridge and lasso regression? What will be the changes in the model if you choose double the value of alpha for both ridge and lasso? What will be the most important predictor variables after the change is implemented?\n"
   ]
  },
  {
   "cell_type": "markdown",
   "metadata": {
    "id": "ZGu4gQZefN0V"
   },
   "source": [
    "##### **Answer 1:**\n",
    "\n",
    "The Optimal value of lambda are\n",
    "Ridge Regression = 100\n",
    "Lasso Regression = 0.001\n"
   ]
  },
  {
   "cell_type": "code",
   "execution_count": 81,
   "metadata": {
    "colab": {
     "base_uri": "https://localhost:8080/",
     "height": 238
    },
    "executionInfo": {
     "elapsed": 391,
     "status": "ok",
     "timestamp": 1716891900247,
     "user": {
      "displayName": "Neha",
      "userId": "05120978174581133934"
     },
     "user_tz": -330
    },
    "id": "y2Xdl3Y_abfT",
    "outputId": "58069373-9e84-4d14-c73e-b975d365689d"
   },
   "outputs": [
    {
     "data": {
      "text/html": [
       "<div>\n",
       "<style scoped>\n",
       "    .dataframe tbody tr th:only-of-type {\n",
       "        vertical-align: middle;\n",
       "    }\n",
       "\n",
       "    .dataframe tbody tr th {\n",
       "        vertical-align: top;\n",
       "    }\n",
       "\n",
       "    .dataframe thead th {\n",
       "        text-align: right;\n",
       "    }\n",
       "</style>\n",
       "<table border=\"1\" class=\"dataframe\">\n",
       "  <thead>\n",
       "    <tr style=\"text-align: right;\">\n",
       "      <th></th>\n",
       "      <th>Metric</th>\n",
       "      <th>Ridge Regression</th>\n",
       "      <th>Lasso Regression</th>\n",
       "    </tr>\n",
       "  </thead>\n",
       "  <tbody>\n",
       "    <tr>\n",
       "      <th>0</th>\n",
       "      <td>R2 Score (Train)</td>\n",
       "      <td>0.88</td>\n",
       "      <td>0.89</td>\n",
       "    </tr>\n",
       "    <tr>\n",
       "      <th>1</th>\n",
       "      <td>R2 Score (Test)</td>\n",
       "      <td>0.87</td>\n",
       "      <td>0.87</td>\n",
       "    </tr>\n",
       "    <tr>\n",
       "      <th>2</th>\n",
       "      <td>RSS (Train)</td>\n",
       "      <td>18.71</td>\n",
       "      <td>18.43</td>\n",
       "    </tr>\n",
       "    <tr>\n",
       "      <th>3</th>\n",
       "      <td>RSS (Test)</td>\n",
       "      <td>8.68</td>\n",
       "      <td>9.00</td>\n",
       "    </tr>\n",
       "    <tr>\n",
       "      <th>4</th>\n",
       "      <td>MSE (Train)</td>\n",
       "      <td>0.14</td>\n",
       "      <td>0.13</td>\n",
       "    </tr>\n",
       "    <tr>\n",
       "      <th>5</th>\n",
       "      <td>MSE (Test)</td>\n",
       "      <td>0.14</td>\n",
       "      <td>0.14</td>\n",
       "    </tr>\n",
       "  </tbody>\n",
       "</table>\n",
       "</div>"
      ],
      "text/plain": [
       "             Metric  Ridge Regression  Lasso Regression\n",
       "0  R2 Score (Train)              0.88              0.89\n",
       "1   R2 Score (Test)              0.87              0.87\n",
       "2       RSS (Train)             18.71             18.43\n",
       "3        RSS (Test)              8.68              9.00\n",
       "4       MSE (Train)              0.14              0.13\n",
       "5        MSE (Test)              0.14              0.14"
      ]
     },
     "execution_count": 81,
     "metadata": {},
     "output_type": "execute_result"
    }
   ],
   "source": [
    "final_metric"
   ]
  },
  {
   "cell_type": "markdown",
   "metadata": {
    "id": "dlfpsjQ1r7-1"
   },
   "source": [
    "Doubling the value of lambda would be\n",
    "1. Ridge Regression = 200\n",
    "2. Lasso Regression = 0.002"
   ]
  },
  {
   "cell_type": "code",
   "execution_count": 82,
   "metadata": {
    "executionInfo": {
     "elapsed": 375,
     "status": "ok",
     "timestamp": 1716891299106,
     "user": {
      "displayName": "Neha",
      "userId": "05120978174581133934"
     },
     "user_tz": -330
    },
    "id": "hnfeh7gDsh3x"
   },
   "outputs": [],
   "source": [
    "# split into train and test\n",
    "X_train, X_test, y_train, y_test = train_test_split(X_std, y,\n",
    "                                                    train_size=0.7,\n",
    "                                                    test_size = 0.3, random_state=100)"
   ]
  },
  {
   "cell_type": "code",
   "execution_count": 83,
   "metadata": {
    "executionInfo": {
     "elapsed": 434,
     "status": "ok",
     "timestamp": 1716891355224,
     "user": {
      "displayName": "Neha",
      "userId": "05120978174581133934"
     },
     "user_tz": -330
    },
    "id": "QxfkWbL7r7vz"
   },
   "outputs": [],
   "source": [
    "# Ridge regression with alpha = 200\n",
    "alpha = 200\n",
    "ridge = Ridge(alpha=alpha)\n",
    "\n",
    "ridge.fit(X_train, y_train)\n",
    "\n",
    "#Make predictions on Test and train data\n",
    "y_pred_train = ridge.predict(X_train)\n",
    "y_pred_test = ridge.predict(X_test)"
   ]
  },
  {
   "cell_type": "code",
   "execution_count": 84,
   "metadata": {
    "colab": {
     "base_uri": "https://localhost:8080/"
    },
    "executionInfo": {
     "elapsed": 422,
     "status": "ok",
     "timestamp": 1716891358775,
     "user": {
      "displayName": "Neha",
      "userId": "05120978174581133934"
     },
     "user_tz": -330
    },
    "id": "G3Gn73IJssiy",
    "outputId": "e919ca4d-69da-49a6-f520-67415f278112"
   },
   "outputs": [
    {
     "name": "stdout",
     "output_type": "stream",
     "text": [
      "R2 score(Train):  0.8814724451748077\n",
      " R2 score(Test):  0.877899751927925\n",
      "RSS(Train): 19.27640494137426\n",
      "RSS(Test): 8.390726477207874\n",
      "MSE(Train): 0.018991531961945085\n",
      "MSE(Test): 0.019244785498183196\n"
     ]
    }
   ],
   "source": [
    "# Lets calculate some metrics such as R2 score, RSS and RMSE\n",
    "metric = []\n",
    "r2_train_lr = r2_score(y_train, y_pred_train)\n",
    "print(\"R2 score(Train): \",r2_train_lr)\n",
    "metric.append(r2_train_lr)\n",
    "\n",
    "r2_test_lr = r2_score(y_test, y_pred_test)\n",
    "print(\" R2 score(Test): \",r2_test_lr)\n",
    "metric.append(r2_test_lr)\n",
    "\n",
    "rss1_lr = np.sum(np.square(y_train - y_pred_train))\n",
    "print(\"RSS(Train):\",rss1_lr)\n",
    "metric.append(rss1_lr)\n",
    "\n",
    "rss2_lr = np.sum(np.square(y_test - y_pred_test))\n",
    "print(\"RSS(Test):\",rss2_lr)\n",
    "metric.append(rss2_lr)\n",
    "\n",
    "mse_train_lr = mean_squared_error(y_train, y_pred_train)\n",
    "print(\"MSE(Train):\",mse_train_lr)\n",
    "metric.append(mse_train_lr**0.5)\n",
    "\n",
    "mse_test_lr = mean_squared_error(y_test, y_pred_test)\n",
    "print(\"MSE(Test):\",mse_test_lr)\n",
    "metric.append(mse_test_lr**0.5)"
   ]
  },
  {
   "cell_type": "code",
   "execution_count": 85,
   "metadata": {
    "executionInfo": {
     "elapsed": 649,
     "status": "ok",
     "timestamp": 1716891400578,
     "user": {
      "displayName": "Neha",
      "userId": "05120978174581133934"
     },
     "user_tz": -330
    },
    "id": "-ntmEWcNfXw9"
   },
   "outputs": [],
   "source": [
    "#Lasso Regression with alpha = 0.002\n",
    "\n",
    "alpha =0.002\n",
    "lasso = Lasso(alpha=alpha)\n",
    "lasso.fit(X_train, y_train)\n",
    "\n",
    "#Predict using Lasso\n",
    "y_pred_train = lasso.predict(X_train)\n",
    "y_pred_test = lasso.predict(X_test)"
   ]
  },
  {
   "cell_type": "code",
   "execution_count": 86,
   "metadata": {
    "colab": {
     "base_uri": "https://localhost:8080/"
    },
    "executionInfo": {
     "elapsed": 5,
     "status": "ok",
     "timestamp": 1716891407665,
     "user": {
      "displayName": "Neha",
      "userId": "05120978174581133934"
     },
     "user_tz": -330
    },
    "id": "R4dhSRX5s7Si",
    "outputId": "85704a2d-d6fc-4c27-b392-1d612456c752"
   },
   "outputs": [
    {
     "name": "stdout",
     "output_type": "stream",
     "text": [
      "R2 score(Train):  0.8850032986272947\n",
      " R2 score(Test):  0.875620451759615\n",
      "RSS(Train): 18.70217424000555\n",
      "RSS(Test): 8.547359936793097\n",
      "MSE(Train): 0.0184257874285769\n",
      "MSE(Test): 0.019604036552277746\n"
     ]
    }
   ],
   "source": [
    "# Lets calculate some metrics such as R2 score, RSS and RMSE\n",
    "metric2 = []\n",
    "r2_train_lr = r2_score(y_train, y_pred_train)\n",
    "print(\"R2 score(Train): \",r2_train_lr)\n",
    "metric2.append(r2_train_lr)\n",
    "\n",
    "r2_test_lr = r2_score(y_test, y_pred_test)\n",
    "print(\" R2 score(Test): \",r2_test_lr)\n",
    "metric2.append(r2_test_lr)\n",
    "\n",
    "rss1_lr = np.sum(np.square(y_train - y_pred_train))\n",
    "print(\"RSS(Train):\",rss1_lr)\n",
    "metric2.append(rss1_lr)\n",
    "\n",
    "rss2_lr = np.sum(np.square(y_test - y_pred_test))\n",
    "print(\"RSS(Test):\",rss2_lr)\n",
    "metric2.append(rss2_lr)\n",
    "\n",
    "mse_train_lr = mean_squared_error(y_train, y_pred_train)\n",
    "print(\"MSE(Train):\",mse_train_lr)\n",
    "metric2.append(mse_train_lr**0.5)\n",
    "\n",
    "mse_test_lr = mean_squared_error(y_test, y_pred_test)\n",
    "print(\"MSE(Test):\",mse_test_lr)\n",
    "metric2.append(mse_test_lr**0.5)"
   ]
  },
  {
   "cell_type": "code",
   "execution_count": 87,
   "metadata": {
    "colab": {
     "base_uri": "https://localhost:8080/",
     "height": 238
    },
    "executionInfo": {
     "elapsed": 420,
     "status": "ok",
     "timestamp": 1716891432040,
     "user": {
      "displayName": "Neha",
      "userId": "05120978174581133934"
     },
     "user_tz": -330
    },
    "id": "6nFXq22Ds85s",
    "outputId": "8e2e1328-4456-486f-a56c-dadca5648f2a"
   },
   "outputs": [
    {
     "data": {
      "text/html": [
       "<div>\n",
       "<style scoped>\n",
       "    .dataframe tbody tr th:only-of-type {\n",
       "        vertical-align: middle;\n",
       "    }\n",
       "\n",
       "    .dataframe tbody tr th {\n",
       "        vertical-align: top;\n",
       "    }\n",
       "\n",
       "    .dataframe thead th {\n",
       "        text-align: right;\n",
       "    }\n",
       "</style>\n",
       "<table border=\"1\" class=\"dataframe\">\n",
       "  <thead>\n",
       "    <tr style=\"text-align: right;\">\n",
       "      <th></th>\n",
       "      <th>Metric</th>\n",
       "      <th>Ridge Regression</th>\n",
       "      <th>Lasso Regression</th>\n",
       "    </tr>\n",
       "  </thead>\n",
       "  <tbody>\n",
       "    <tr>\n",
       "      <th>0</th>\n",
       "      <td>R2 Score (Train)</td>\n",
       "      <td>0.88</td>\n",
       "      <td>0.89</td>\n",
       "    </tr>\n",
       "    <tr>\n",
       "      <th>1</th>\n",
       "      <td>R2 Score (Test)</td>\n",
       "      <td>0.88</td>\n",
       "      <td>0.88</td>\n",
       "    </tr>\n",
       "    <tr>\n",
       "      <th>2</th>\n",
       "      <td>RSS (Train)</td>\n",
       "      <td>19.28</td>\n",
       "      <td>18.70</td>\n",
       "    </tr>\n",
       "    <tr>\n",
       "      <th>3</th>\n",
       "      <td>RSS (Test)</td>\n",
       "      <td>8.39</td>\n",
       "      <td>8.55</td>\n",
       "    </tr>\n",
       "    <tr>\n",
       "      <th>4</th>\n",
       "      <td>MSE (Train)</td>\n",
       "      <td>0.14</td>\n",
       "      <td>0.14</td>\n",
       "    </tr>\n",
       "    <tr>\n",
       "      <th>5</th>\n",
       "      <td>MSE (Test)</td>\n",
       "      <td>0.14</td>\n",
       "      <td>0.14</td>\n",
       "    </tr>\n",
       "  </tbody>\n",
       "</table>\n",
       "</div>"
      ],
      "text/plain": [
       "             Metric  Ridge Regression  Lasso Regression\n",
       "0  R2 Score (Train)              0.88              0.89\n",
       "1   R2 Score (Test)              0.88              0.88\n",
       "2       RSS (Train)             19.28             18.70\n",
       "3        RSS (Test)              8.39              8.55\n",
       "4       MSE (Train)              0.14              0.14\n",
       "5        MSE (Test)              0.14              0.14"
      ]
     },
     "execution_count": 87,
     "metadata": {},
     "output_type": "execute_result"
    }
   ],
   "source": [
    "#Model comparison\n",
    "\n",
    "pd.options.display.float_format = \"{:,.2f}\".format\n",
    "\n",
    "lr_table = {'Metric': ['R2 Score (Train)','R2 Score (Test)','RSS (Train)','RSS (Test)',\n",
    "                       'MSE (Train)','MSE (Test)'],\n",
    "        'Ridge Regression': metric\n",
    "        }\n",
    "\n",
    "rg_metric = pd.DataFrame(lr_table ,columns = ['Metric', 'Ridge Regression'] )\n",
    "\n",
    "#rg_metric = pd.Series(metric, name = 'Ridge Regression')\n",
    "ls_metric = pd.Series(metric2, name = 'Lasso Regression')\n",
    "\n",
    "final_metric = pd.concat([rg_metric, ls_metric], axis = 1)\n",
    "\n",
    "\n",
    "final_metric"
   ]
  },
  {
   "cell_type": "code",
   "execution_count": 88,
   "metadata": {
    "colab": {
     "base_uri": "https://localhost:8080/",
     "height": 687
    },
    "executionInfo": {
     "elapsed": 379,
     "status": "ok",
     "timestamp": 1716891590316,
     "user": {
      "displayName": "Neha",
      "userId": "05120978174581133934"
     },
     "user_tz": -330
    },
    "id": "XUY06QSatDBc",
    "outputId": "01ce8605-f26a-4117-e733-64b96e1b4304"
   },
   "outputs": [
    {
     "data": {
      "text/html": [
       "<div>\n",
       "<style scoped>\n",
       "    .dataframe tbody tr th:only-of-type {\n",
       "        vertical-align: middle;\n",
       "    }\n",
       "\n",
       "    .dataframe tbody tr th {\n",
       "        vertical-align: top;\n",
       "    }\n",
       "\n",
       "    .dataframe thead th {\n",
       "        text-align: right;\n",
       "    }\n",
       "</style>\n",
       "<table border=\"1\" class=\"dataframe\">\n",
       "  <thead>\n",
       "    <tr style=\"text-align: right;\">\n",
       "      <th></th>\n",
       "      <th>Ridge</th>\n",
       "      <th>Lasso</th>\n",
       "    </tr>\n",
       "  </thead>\n",
       "  <tbody>\n",
       "    <tr>\n",
       "      <th>MSSubClass</th>\n",
       "      <td>0.01</td>\n",
       "      <td>0.01</td>\n",
       "    </tr>\n",
       "    <tr>\n",
       "      <th>MSZoning</th>\n",
       "      <td>-0.01</td>\n",
       "      <td>-0.01</td>\n",
       "    </tr>\n",
       "    <tr>\n",
       "      <th>LotFrontage</th>\n",
       "      <td>-0.01</td>\n",
       "      <td>-0.01</td>\n",
       "    </tr>\n",
       "    <tr>\n",
       "      <th>LotArea</th>\n",
       "      <td>0.01</td>\n",
       "      <td>0.01</td>\n",
       "    </tr>\n",
       "    <tr>\n",
       "      <th>Street</th>\n",
       "      <td>0.01</td>\n",
       "      <td>0.01</td>\n",
       "    </tr>\n",
       "    <tr>\n",
       "      <th>...</th>\n",
       "      <td>...</td>\n",
       "      <td>...</td>\n",
       "    </tr>\n",
       "    <tr>\n",
       "      <th>MiscVal</th>\n",
       "      <td>-0.01</td>\n",
       "      <td>-0.01</td>\n",
       "    </tr>\n",
       "    <tr>\n",
       "      <th>MoSold</th>\n",
       "      <td>0.01</td>\n",
       "      <td>0.01</td>\n",
       "    </tr>\n",
       "    <tr>\n",
       "      <th>YrSold</th>\n",
       "      <td>-0.01</td>\n",
       "      <td>-0.01</td>\n",
       "    </tr>\n",
       "    <tr>\n",
       "      <th>SaleType</th>\n",
       "      <td>0.00</td>\n",
       "      <td>0.00</td>\n",
       "    </tr>\n",
       "    <tr>\n",
       "      <th>SaleCondition</th>\n",
       "      <td>0.03</td>\n",
       "      <td>0.03</td>\n",
       "    </tr>\n",
       "  </tbody>\n",
       "</table>\n",
       "<p>75 rows × 2 columns</p>\n",
       "</div>"
      ],
      "text/plain": [
       "               Ridge  Lasso\n",
       "MSSubClass      0.01   0.01\n",
       "MSZoning       -0.01  -0.01\n",
       "LotFrontage    -0.01  -0.01\n",
       "LotArea         0.01   0.01\n",
       "Street          0.01   0.01\n",
       "...              ...    ...\n",
       "MiscVal        -0.01  -0.01\n",
       "MoSold          0.01   0.01\n",
       "YrSold         -0.01  -0.01\n",
       "SaleType        0.00   0.00\n",
       "SaleCondition   0.03   0.03\n",
       "\n",
       "[75 rows x 2 columns]"
      ]
     },
     "execution_count": 88,
     "metadata": {},
     "output_type": "execute_result"
    }
   ],
   "source": [
    "#identifying top predictors\n",
    "##create empty datafame with all the independent variables as indices\n",
    "betas2 = pd.DataFrame(index=all_cols)\n",
    "betas2.rows = all_cols\n",
    "betas2['Ridge'] = ridge.coef_\n",
    "betas2['Lasso'] = lasso.coef_\n",
    "betas"
   ]
  },
  {
   "cell_type": "code",
   "execution_count": 89,
   "metadata": {
    "colab": {
     "base_uri": "https://localhost:8080/",
     "height": 457
    },
    "executionInfo": {
     "elapsed": 434,
     "status": "ok",
     "timestamp": 1716892281643,
     "user": {
      "displayName": "Neha",
      "userId": "05120978174581133934"
     },
     "user_tz": -330
    },
    "id": "sECDvz9Ntprg",
    "outputId": "bf0546bc-8ec4-42db-b3e9-592b79eb585d"
   },
   "outputs": [
    {
     "data": {
      "text/html": [
       "<div>\n",
       "<style scoped>\n",
       "    .dataframe tbody tr th:only-of-type {\n",
       "        vertical-align: middle;\n",
       "    }\n",
       "\n",
       "    .dataframe tbody tr th {\n",
       "        vertical-align: top;\n",
       "    }\n",
       "\n",
       "    .dataframe thead th {\n",
       "        text-align: right;\n",
       "    }\n",
       "</style>\n",
       "<table border=\"1\" class=\"dataframe\">\n",
       "  <thead>\n",
       "    <tr style=\"text-align: right;\">\n",
       "      <th></th>\n",
       "      <th>Ridge</th>\n",
       "      <th>Lasso</th>\n",
       "    </tr>\n",
       "  </thead>\n",
       "  <tbody>\n",
       "    <tr>\n",
       "      <th>Condition1</th>\n",
       "      <td>0.00</td>\n",
       "      <td>-0.00</td>\n",
       "    </tr>\n",
       "    <tr>\n",
       "      <th>Exterior1st</th>\n",
       "      <td>-0.00</td>\n",
       "      <td>-0.00</td>\n",
       "    </tr>\n",
       "    <tr>\n",
       "      <th>MasVnrType</th>\n",
       "      <td>0.00</td>\n",
       "      <td>0.00</td>\n",
       "    </tr>\n",
       "    <tr>\n",
       "      <th>ExterQual</th>\n",
       "      <td>-0.01</td>\n",
       "      <td>-0.00</td>\n",
       "    </tr>\n",
       "    <tr>\n",
       "      <th>BsmtFinSF1</th>\n",
       "      <td>0.01</td>\n",
       "      <td>0.00</td>\n",
       "    </tr>\n",
       "    <tr>\n",
       "      <th>BsmtFinType2</th>\n",
       "      <td>0.00</td>\n",
       "      <td>0.00</td>\n",
       "    </tr>\n",
       "    <tr>\n",
       "      <th>BsmtUnfSF</th>\n",
       "      <td>0.00</td>\n",
       "      <td>0.00</td>\n",
       "    </tr>\n",
       "    <tr>\n",
       "      <th>2ndFlrSF</th>\n",
       "      <td>0.02</td>\n",
       "      <td>0.00</td>\n",
       "    </tr>\n",
       "    <tr>\n",
       "      <th>LowQualFinSF</th>\n",
       "      <td>0.00</td>\n",
       "      <td>0.00</td>\n",
       "    </tr>\n",
       "    <tr>\n",
       "      <th>GarageArea</th>\n",
       "      <td>0.02</td>\n",
       "      <td>0.00</td>\n",
       "    </tr>\n",
       "    <tr>\n",
       "      <th>GarageQual</th>\n",
       "      <td>-0.00</td>\n",
       "      <td>-0.00</td>\n",
       "    </tr>\n",
       "    <tr>\n",
       "      <th>GarageCond</th>\n",
       "      <td>0.00</td>\n",
       "      <td>0.00</td>\n",
       "    </tr>\n",
       "    <tr>\n",
       "      <th>OpenPorchSF</th>\n",
       "      <td>-0.00</td>\n",
       "      <td>-0.00</td>\n",
       "    </tr>\n",
       "    <tr>\n",
       "      <th>MiscVal</th>\n",
       "      <td>-0.01</td>\n",
       "      <td>-0.00</td>\n",
       "    </tr>\n",
       "  </tbody>\n",
       "</table>\n",
       "</div>"
      ],
      "text/plain": [
       "              Ridge  Lasso\n",
       "Condition1     0.00  -0.00\n",
       "Exterior1st   -0.00  -0.00\n",
       "MasVnrType     0.00   0.00\n",
       "ExterQual     -0.01  -0.00\n",
       "BsmtFinSF1     0.01   0.00\n",
       "BsmtFinType2   0.00   0.00\n",
       "BsmtUnfSF      0.00   0.00\n",
       "2ndFlrSF       0.02   0.00\n",
       "LowQualFinSF   0.00   0.00\n",
       "GarageArea     0.02   0.00\n",
       "GarageQual    -0.00  -0.00\n",
       "GarageCond     0.00   0.00\n",
       "OpenPorchSF   -0.00  -0.00\n",
       "MiscVal       -0.01  -0.00"
      ]
     },
     "execution_count": 89,
     "metadata": {},
     "output_type": "execute_result"
    }
   ],
   "source": [
    "## View the features removed by Lasso\n",
    "betas2[betas2['Lasso']==0]"
   ]
  },
  {
   "cell_type": "markdown",
   "metadata": {
    "id": "7JSaUiB9x7aT"
   },
   "source": [
    "#### **Question 2**\n",
    "You have determined the optimal value of lambda for ridge and lasso regression during the assignment. Now, which one will you choose to apply and why?\n",
    "\n",
    "***Answer :***\n",
    "The model to choose will depend on the use case.\n",
    "If feature selection is the goal then I will choose the Lasso model with alpha=0.002\n",
    "If the goal is to reduce the magnitude of the coefficients , I will choose Ridge regression with alpha =100\n"
   ]
  },
  {
   "cell_type": "markdown",
   "metadata": {
    "id": "dzRdKN5_yKhh"
   },
   "source": [
    "#### **Question 3**\n",
    "After building the model, you realised that the five most important predictor variables in the lasso model are not available in the incoming data. You will now have to create another model excluding the five most important predictor variables. Which are the five most important predictor variables now?\n"
   ]
  },
  {
   "cell_type": "code",
   "execution_count": 90,
   "metadata": {
    "colab": {
     "base_uri": "https://localhost:8080/"
    },
    "executionInfo": {
     "elapsed": 368,
     "status": "ok",
     "timestamp": 1716892953212,
     "user": {
      "displayName": "Neha",
      "userId": "05120978174581133934"
     },
     "user_tz": -330
    },
    "id": "dGaxqQ_Myda_",
    "outputId": "4caec81e-6f0c-4c05-c529-5888d77c4e14"
   },
   "outputs": [
    {
     "data": {
      "text/plain": [
       "OverallQual   0.10\n",
       "GrLivArea     0.08\n",
       "GarageCars    0.06\n",
       "YearBuilt     0.05\n",
       "OverallCond   0.04\n",
       "Name: Lasso, dtype: float64"
      ]
     },
     "execution_count": 90,
     "metadata": {},
     "output_type": "execute_result"
    }
   ],
   "source": [
    "## View the inital top 5 coefficients of Lasso\n",
    "betas['Lasso'].sort_values(ascending=False)[:5]"
   ]
  },
  {
   "cell_type": "code",
   "execution_count": null,
   "metadata": {},
   "outputs": [],
   "source": []
  }
 ],
 "metadata": {
  "colab": {
   "authorship_tag": "ABX9TyONeImpR59CQbqjvfpYUGFA",
   "collapsed_sections": [
    "-AZx3JJeRYiq",
    "FsWzIqxNaqcr",
    "XdB_e21xQfBI",
    "AV_A0DaPcqTt",
    "n0qYiM4yPY8_",
    "5B4_dgW2aBIE",
    "IRydkuZ6Yl52",
    "fq8xBH78TdwF",
    "OnvdcPuBY8cl",
    "Y4wWnWxsz3iP",
    "-oDV6gq61Xfp",
    "6rNOkXOt1a-c",
    "f1942PnI1ka6",
    "v52iwsjyZZZ_",
    "9M06Bgl8FRRg",
    "6pTY47O0FTZ7",
    "90vP94VRI3Sy",
    "H_hEadrxI82k",
    "znrnZdYiZ09t",
    "13ldK9eRby38"
   ],
   "mount_file_id": "15851jridXdM1PiBg1DArJzJqri7adMdZ",
   "provenance": []
  },
  "kernelspec": {
   "display_name": "Python 3 (ipykernel)",
   "language": "python",
   "name": "python3"
  },
  "language_info": {
   "codemirror_mode": {
    "name": "ipython",
    "version": 3
   },
   "file_extension": ".py",
   "mimetype": "text/x-python",
   "name": "python",
   "nbconvert_exporter": "python",
   "pygments_lexer": "ipython3",
   "version": "3.9.12"
  }
 },
 "nbformat": 4,
 "nbformat_minor": 1
}
